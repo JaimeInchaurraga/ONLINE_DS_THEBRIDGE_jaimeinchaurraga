{
 "cells": [
  {
   "cell_type": "markdown",
   "metadata": {},
   "source": [
    "Tienes un archivo CSV que contiene datos de ventas de una tienda. El archivo tiene la siguiente estructura:  \n",
    "\n",
    "id,producto,fecha,precio,cantidad  \n",
    "1,Manzanas,2023-01-01,1.2,10  \n",
    "2,Naranjas,2023-01-01,0.8,5  \n",
    "3,Manzanas,2023-01-02,1.2,7  \n",
    "4,Plátanos,2023-01-02,0.5,20  \n",
    "5,Plátanos,2023-01-03,0.5,15  \n",
    "6,Naranjas,2023-01-03,0.8,7  \n",
    "7,Manzanas,2023-01-03,1.2,3  \n",
    "\n",
    "Escribir un programa en Python que lea el archivo CSV y realice las siguientes tareas:\n",
    "\n",
    "Cargar los datos desde el archivo CSV.\n",
    "Calcular el total de ingresos generados por cada producto.\n",
    "Determinar el día con mayores ventas (en términos de ingresos).\n",
    "Generar un gráfico de barras que muestre los ingresos totales por producto.\n",
    "Requisitos:\n",
    "\n",
    "Utiliza pandas para la manipulación de datos.\n",
    "Utiliza matplotlib o seaborn para la visualización de los datos.\n",
    "El programa debe ser modular, utilizando funciones para cada una de las tareas.\n"
   ]
  },
  {
   "cell_type": "code",
   "execution_count": 3,
   "metadata": {},
   "outputs": [],
   "source": [
    "import pandas as pd\n",
    "import matplotlib.pyplot as plt\n",
    "import seaborn as sns\n",
    "\n",
    "data = {\n",
    "    \"id\": [1,2,3,4,5,6,7],\n",
    "    \"producto\":[\"Manzanas\",\"Naranjas\",\"Manzanas\",\"Plátanos\",\"Plátanos\",\"Naranjas\",\"Manzanas\"],\n",
    "    \"fecha\":[\"2023-01-01\", \"2023-01-01\", \"2023-01-02\", \"2023-01-02\", \"2023-01-03\", \"2023-01-03\", \"2023-01-03\"],\n",
    "    \"precio\":[1.2, 0.8, 1.2, 0.5, 0.5, 0.8, 1.2],\n",
    "    \"cantidad\":[10, 5, 7, 20, 15, 7, 3]\n",
    "}\n",
    "\n",
    "df = pd.DataFrame(data)\n",
    "\n"
   ]
  },
  {
   "cell_type": "code",
   "execution_count": 3,
   "metadata": {},
   "outputs": [
    {
     "data": {
      "text/html": [
       "<div>\n",
       "<style scoped>\n",
       "    .dataframe tbody tr th:only-of-type {\n",
       "        vertical-align: middle;\n",
       "    }\n",
       "\n",
       "    .dataframe tbody tr th {\n",
       "        vertical-align: top;\n",
       "    }\n",
       "\n",
       "    .dataframe thead th {\n",
       "        text-align: right;\n",
       "    }\n",
       "</style>\n",
       "<table border=\"1\" class=\"dataframe\">\n",
       "  <thead>\n",
       "    <tr style=\"text-align: right;\">\n",
       "      <th></th>\n",
       "      <th>id</th>\n",
       "      <th>producto</th>\n",
       "      <th>fecha</th>\n",
       "      <th>precio</th>\n",
       "      <th>cantidad</th>\n",
       "    </tr>\n",
       "  </thead>\n",
       "  <tbody>\n",
       "    <tr>\n",
       "      <th>0</th>\n",
       "      <td>1</td>\n",
       "      <td>Manzanas</td>\n",
       "      <td>2023-01-01</td>\n",
       "      <td>1.2</td>\n",
       "      <td>10</td>\n",
       "    </tr>\n",
       "    <tr>\n",
       "      <th>1</th>\n",
       "      <td>2</td>\n",
       "      <td>Naranjas</td>\n",
       "      <td>2023-01-01</td>\n",
       "      <td>0.8</td>\n",
       "      <td>5</td>\n",
       "    </tr>\n",
       "    <tr>\n",
       "      <th>2</th>\n",
       "      <td>3</td>\n",
       "      <td>Manzanas</td>\n",
       "      <td>2023-01-02</td>\n",
       "      <td>1.2</td>\n",
       "      <td>7</td>\n",
       "    </tr>\n",
       "    <tr>\n",
       "      <th>3</th>\n",
       "      <td>4</td>\n",
       "      <td>Plátanos</td>\n",
       "      <td>2023-01-02</td>\n",
       "      <td>0.5</td>\n",
       "      <td>20</td>\n",
       "    </tr>\n",
       "    <tr>\n",
       "      <th>4</th>\n",
       "      <td>5</td>\n",
       "      <td>Plátanos</td>\n",
       "      <td>2023-01-03</td>\n",
       "      <td>0.5</td>\n",
       "      <td>15</td>\n",
       "    </tr>\n",
       "    <tr>\n",
       "      <th>5</th>\n",
       "      <td>6</td>\n",
       "      <td>Naranjas</td>\n",
       "      <td>2023-01-03</td>\n",
       "      <td>0.8</td>\n",
       "      <td>7</td>\n",
       "    </tr>\n",
       "    <tr>\n",
       "      <th>6</th>\n",
       "      <td>7</td>\n",
       "      <td>Manzanas</td>\n",
       "      <td>2023-01-03</td>\n",
       "      <td>1.2</td>\n",
       "      <td>3</td>\n",
       "    </tr>\n",
       "  </tbody>\n",
       "</table>\n",
       "</div>"
      ],
      "text/plain": [
       "   id  producto       fecha  precio  cantidad\n",
       "0   1  Manzanas  2023-01-01     1.2        10\n",
       "1   2  Naranjas  2023-01-01     0.8         5\n",
       "2   3  Manzanas  2023-01-02     1.2         7\n",
       "3   4  Plátanos  2023-01-02     0.5        20\n",
       "4   5  Plátanos  2023-01-03     0.5        15\n",
       "5   6  Naranjas  2023-01-03     0.8         7\n",
       "6   7  Manzanas  2023-01-03     1.2         3"
      ]
     },
     "execution_count": 3,
     "metadata": {},
     "output_type": "execute_result"
    }
   ],
   "source": [
    "df"
   ]
  },
  {
   "cell_type": "code",
   "execution_count": 5,
   "metadata": {},
   "outputs": [
    {
     "name": "stdout",
     "output_type": "stream",
     "text": [
      "<class 'pandas.core.frame.DataFrame'>\n",
      "RangeIndex: 7 entries, 0 to 6\n",
      "Data columns (total 5 columns):\n",
      " #   Column    Non-Null Count  Dtype  \n",
      "---  ------    --------------  -----  \n",
      " 0   id        7 non-null      int64  \n",
      " 1   producto  7 non-null      object \n",
      " 2   fecha     7 non-null      object \n",
      " 3   precio    7 non-null      float64\n",
      " 4   cantidad  7 non-null      int64  \n",
      "dtypes: float64(1), int64(2), object(2)\n",
      "memory usage: 412.0+ bytes\n"
     ]
    }
   ],
   "source": [
    "df.info()"
   ]
  },
  {
   "cell_type": "markdown",
   "metadata": {},
   "source": []
  },
  {
   "cell_type": "code",
   "execution_count": 6,
   "metadata": {},
   "outputs": [],
   "source": [
    "df['fecha'] = pd.to_datetime(df['fecha'])"
   ]
  },
  {
   "cell_type": "code",
   "execution_count": 7,
   "metadata": {},
   "outputs": [
    {
     "name": "stdout",
     "output_type": "stream",
     "text": [
      "<class 'pandas.core.frame.DataFrame'>\n",
      "RangeIndex: 7 entries, 0 to 6\n",
      "Data columns (total 5 columns):\n",
      " #   Column    Non-Null Count  Dtype         \n",
      "---  ------    --------------  -----         \n",
      " 0   id        7 non-null      int64         \n",
      " 1   producto  7 non-null      object        \n",
      " 2   fecha     7 non-null      datetime64[ns]\n",
      " 3   precio    7 non-null      float64       \n",
      " 4   cantidad  7 non-null      int64         \n",
      "dtypes: datetime64[ns](1), float64(1), int64(2), object(1)\n",
      "memory usage: 412.0+ bytes\n"
     ]
    }
   ],
   "source": [
    "df.info()"
   ]
  },
  {
   "cell_type": "code",
   "execution_count": 9,
   "metadata": {},
   "outputs": [],
   "source": [
    "df.to_csv('ventas.csv', index=False)"
   ]
  },
  {
   "cell_type": "code",
   "execution_count": 10,
   "metadata": {},
   "outputs": [
    {
     "name": "stdout",
     "output_type": "stream",
     "text": [
      "Ingresos por producto:\n",
      "producto\n",
      "Manzanas    24.0\n",
      "Naranjas     9.6\n",
      "Plátanos    17.5\n",
      "Name: ingreso, dtype: float64\n",
      "El día con mayores ventas es 2023-01-02 con un ingreso de 18.40\n"
     ]
    },
    {
     "data": {
      "image/png": "[encoded data removed]",
      "text/plain": [
       "<Figure size 640x480 with 1 Axes>"
      ]
     },
     "metadata": {},
     "output_type": "display_data"
    }
   ],
   "source": [
    "def cargar_datos(archivo):\n",
    "    \"\"\"\n",
    "    Carga los datos desde un archivo CSV y los devuelve como un DataFrame de pandas.\n",
    "    \"\"\"\n",
    "    return pd.read_csv(archivo)\n",
    "\n",
    "def calcular_ingresos_por_producto(df):\n",
    "    \"\"\"\n",
    "    Calcula los ingresos totales generados por cada producto.\n",
    "    \"\"\"\n",
    "    df['ingreso'] = df['precio'] * df['cantidad']\n",
    "    ingresos_por_producto = df.groupby('producto')['ingreso'].sum()\n",
    "    return ingresos_por_producto\n",
    "\n",
    "def dia_mayores_ventas(df):\n",
    "    \"\"\"\n",
    "    Determina el día con mayores ventas en términos de ingresos.\n",
    "    \"\"\"\n",
    "    df['ingreso'] = df['precio'] * df['cantidad']\n",
    "    ingresos_por_dia = df.groupby('fecha')['ingreso'].sum()\n",
    "    dia_max_ventas = ingresos_por_dia.idxmax()\n",
    "    return dia_max_ventas, ingresos_por_dia[dia_max_ventas]\n",
    "\n",
    "def graficar_ingresos(ingresos_por_producto):\n",
    "    \"\"\"\n",
    "    Genera un gráfico de barras que muestra los ingresos totales por producto.\n",
    "    \"\"\"\n",
    "    sns.barplot(x=ingresos_por_producto.index, y=ingresos_por_producto.values)\n",
    "    plt.xlabel('Producto')\n",
    "    plt.ylabel('Ingresos Totales')\n",
    "    plt.title('Ingresos Totales por Producto')\n",
    "    plt.show()\n",
    "\n",
    "if __name__ == \"__main__\":\n",
    "    archivo = 'ventas.csv'  # Reemplaza esto con la ruta a tu archivo CSV\n",
    "    df = cargar_datos(archivo)\n",
    "\n",
    "    \n",
    "    ingresos_por_producto = calcular_ingresos_por_producto(df)\n",
    "    print(\"Ingresos por producto:\")\n",
    "    print(ingresos_por_producto)\n",
    "    \n",
    "    dia_max_ventas, ingreso_max_dia = dia_mayores_ventas(df)\n",
    "    print(f\"El día con mayores ventas es {dia_max_ventas} con un ingreso de {ingreso_max_dia:.2f}\")\n",
    "    \n",
    "    graficar_ingresos(ingresos_por_producto)\n"
   ]
  },
  {
   "cell_type": "markdown",
   "metadata": {},
   "source": []
  },
  {
   "cell_type": "markdown",
   "metadata": {},
   "source": [
    "Ejercicio: Análisis de Datos de Ventas con Pandas  \n",
    "Enunciado:  \n",
    "\n",
    "Tienes un conjunto de datos de ventas almacenado en un DataFrame de pandas.  \n",
    "El DataFrame contiene la siguiente información sobre las ventas diarias de una tienda:  \n",
    "\n",
    "Tu tarea es escribir un programa en Python que realice las siguientes operaciones utilizando pandas:  \n",
    "\n",
    "Calcular el total de ventas de la semana.  \n",
    "Encontrar el día con las ventas más altas y el día con las ventas más bajas.  \n",
    "Calcular la media de las ventas diarias.  \n",
    "Generar un nuevo DataFrame que contenga solo los días con ventas por encima de la media.  \n",
    "Generar un nuevo DataFrame que contenga solo los días con ventas por debajo de la media.  \n",
    "Requisitos:  \n",
    "\n",
    "Utiliza las funciones y métodos de pandas para realizar cada operación.  \n",
    "Asegúrate de imprimir los resultados de cada operación.  "
   ]
  },
  {
   "cell_type": "code",
   "execution_count": 20,
   "metadata": {},
   "outputs": [
    {
     "name": "stdout",
     "output_type": "stream",
     "text": [
      "Total de ventas: 1450\n",
      "Media de ventas: 207.14\n",
      "El día con las ventas más altas es: Domingo\n",
      "El día con las ventas más bajas es: Miércoles\n",
      "Días con ventas por encima de la media:\n",
      "Días con ventas por debajo de la media:\n"
     ]
    },
    {
     "data": {
      "text/html": [
       "<div>\n",
       "<style scoped>\n",
       "    .dataframe tbody tr th:only-of-type {\n",
       "        vertical-align: middle;\n",
       "    }\n",
       "\n",
       "    .dataframe tbody tr th {\n",
       "        vertical-align: top;\n",
       "    }\n",
       "\n",
       "    .dataframe thead th {\n",
       "        text-align: right;\n",
       "    }\n",
       "</style>\n",
       "<table border=\"1\" class=\"dataframe\">\n",
       "  <thead>\n",
       "    <tr style=\"text-align: right;\">\n",
       "      <th></th>\n",
       "      <th>día</th>\n",
       "      <th>ventas</th>\n",
       "    </tr>\n",
       "  </thead>\n",
       "  <tbody>\n",
       "    <tr>\n",
       "      <th>0</th>\n",
       "      <td>Lunes</td>\n",
       "      <td>150</td>\n",
       "    </tr>\n",
       "    <tr>\n",
       "      <th>1</th>\n",
       "      <td>Martes</td>\n",
       "      <td>200</td>\n",
       "    </tr>\n",
       "    <tr>\n",
       "      <th>2</th>\n",
       "      <td>Miércoles</td>\n",
       "      <td>50</td>\n",
       "    </tr>\n",
       "    <tr>\n",
       "      <th>5</th>\n",
       "      <td>Sábado</td>\n",
       "      <td>100</td>\n",
       "    </tr>\n",
       "  </tbody>\n",
       "</table>\n",
       "</div>"
      ],
      "text/plain": [
       "         día  ventas\n",
       "0      Lunes     150\n",
       "1     Martes     200\n",
       "2  Miércoles      50\n",
       "5     Sábado     100"
      ]
     },
     "execution_count": 20,
     "metadata": {},
     "output_type": "execute_result"
    }
   ],
   "source": [
    "\n",
    "data = {\n",
    "    \"día\": [\"Lunes\", \"Martes\", \"Miércoles\", \"Jueves\", \"Viernes\", \"Sábado\", \"Domingo\"],\n",
    "    \"ventas\": [150, 200, 50, 300, 250, 100, 400]\n",
    "}\n",
    "\n",
    "df = pd.DataFrame(data)\n",
    "\n",
    "# Calcular el total de ventas de la semana\n",
    "total_ventas = df[\"ventas\"].sum()\n",
    "# Calcular la media de las ventas diarias\n",
    "media_ventas = df[\"ventas\"].mean()\n",
    "\n",
    "print(f\"Total de ventas: {total_ventas}\")\n",
    "print(f\"Media de ventas: {media_ventas:.2f}\")\n",
    "\n",
    "# Encontrar el día con las ventas más altas y más bajas\n",
    "dia_max_ventas = df.loc[df[\"ventas\"].idxmax()][\"día\"]\n",
    "dia_min_ventas = df.loc[df[\"ventas\"].idxmin()][\"día\"]\n",
    "\n",
    "print(f\"El día con las ventas más altas es: {dia_max_ventas}\")\n",
    "print(f\"El día con las ventas más bajas es: {dia_min_ventas}\")\n",
    "\n",
    "# Generar DataFrames para días con ventas por encima y por debajo de la media\n",
    "df_over_mean = df[df[\"ventas\"] > media_ventas]\n",
    "df_under_mean = df[df[\"ventas\"] <= media_ventas]\n",
    "\n",
    "print(\"Días con ventas por encima de la media:\")\n",
    "df_over_mean\n",
    "\n",
    "print(\"Días con ventas por debajo de la media:\")\n",
    "df_under_mean\n",
    "\n"
   ]
  },
  {
   "cell_type": "code",
   "execution_count": null,
   "metadata": {},
   "outputs": [],
   "source": []
  },
  {
   "cell_type": "code",
   "execution_count": null,
   "metadata": {},
   "outputs": [],
   "source": []
  },
  {
   "cell_type": "code",
   "execution_count": null,
   "metadata": {},
   "outputs": [],
   "source": []
  }
 ],
 "metadata": {
  "kernelspec": {
   "display_name": "Python 3",
   "language": "python",
   "name": "python3"
  },
  "language_info": {
   "codemirror_mode": {
    "name": "ipython",
    "version": 3
   },
   "file_extension": ".py",
   "mimetype": "text/x-python",
   "name": "python",
   "nbconvert_exporter": "python",
   "pygments_lexer": "ipython3",
   "version": "3.11.5"
  }
 },
 "nbformat": 4,
 "nbformat_minor": 2
}
