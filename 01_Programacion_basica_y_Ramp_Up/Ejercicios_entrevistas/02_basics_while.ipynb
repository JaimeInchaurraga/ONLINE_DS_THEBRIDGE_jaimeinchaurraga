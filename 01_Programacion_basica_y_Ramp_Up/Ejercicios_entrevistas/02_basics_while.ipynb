{
 "cells": [
  {
   "cell_type": "markdown",
   "metadata": {},
   "source": [
    "### Ejercicio: Simulación de una Cuenta Bancaria\n",
    "\n",
    "**Enunciado:**\n",
    "\n",
    "Vas a crear un programa que simule las operaciones básicas de una cuenta bancaria utilizando un bucle `while`. El programa permitirá al usuario realizar depósitos, retiros y consultar el saldo de su cuenta. Sigue las instrucciones a continuación para completar el ejercicio.\n",
    "\n",
    "1. **Inicialización**:\n",
    "   - Comienza con un saldo inicial de 1000 unidades monetarias.\n",
    "\n",
    "2. **Menú de Opciones**:\n",
    "   - Muestra un menú con las siguientes opciones:\n",
    "     1. Depositar dinero.\n",
    "     2. Retirar dinero.\n",
    "     3. Consultar saldo.\n",
    "     4. Salir.\n",
    "\n",
    "3. **Depósito**:\n",
    "   - Si el usuario elige la opción 1, pide que ingrese la cantidad a depositar y suma esa cantidad al saldo de la cuenta. Asegúrate de que la cantidad a depositar sea positiva.\n",
    "\n",
    "4. **Retiro**:\n",
    "   - Si elige la opción 2, pide que ingrese la cantidad a retirar y resta esa cantidad del saldo de la cuenta. Asegúrate de que la cantidad a retirar no sea mayor que el saldo disponible y sea positiva.\n",
    "\n",
    "5. **Consulta de Saldo**:\n",
    "   - Si elige la opción 3, muestra el saldo actual de la cuenta.\n",
    "\n",
    "6. **Salir**:\n",
    "   - Si elige la opción 4, termina el bucle y finaliza el programa.\n",
    "\n",
    "7. **Entrada No Válida**:\n",
    "   - Si el usuario ingresa una opción que no es válida (no está entre 1 y 4), muestra un mensaje de error y vuelve a mostrar el menú.\n"
   ]
  },
  {
   "cell_type": "markdown",
   "metadata": {},
   "source": [
    "### Función `mostrar_menu`:\n",
    "\n",
    "- Muestra las opciones del menú.\n",
    "\n",
    "### Saldo inicial y variable de opción:\n",
    "\n",
    "- `saldo` inicia en 1000.\n",
    "- `opcion` se utiliza para controlar el bucle `while`.\n",
    "\n",
    "### Bucle `while`:\n",
    "\n",
    "- Continua ejecutándose mientras `opcion` no sea 4.\n",
    "\n",
    "### Opciones del menú:\n",
    "\n",
    "- **Depósito**: Verifica que la cantidad sea positiva antes de sumar al saldo.\n",
    "- **Retiro**: Verifica que la cantidad sea positiva y que no supere el saldo disponible.\n",
    "- **Consulta de saldo**: Muestra el saldo actual.\n",
    "- **Salir**: Finaliza el bucle y despide al usuario.\n",
    "- **Entrada no válida**: Maneja opciones no válidas.\n"
   ]
  },
  {
   "cell_type": "code",
   "execution_count": 2,
   "metadata": {},
   "outputs": [
    {
     "name": "stdout",
     "output_type": "stream",
     "text": [
      "Hola Jaime, a continuación se muestras las opciones disponibles. Por favor, escribe el número de la opción que desees:\n",
      "Su saldo actual es de: 1010.0\n",
      "Jaime, ¡Gracias por usar el servicio!\n"
     ]
    }
   ],
   "source": [
    "nombre = input(\"Bienvenido. Por favor, introduce tu nombre\")\n",
    "print(f\"Hola {nombre}, a continuación se muestras las opciones disponibles. Por favor, escribe el número de la opción que desees:\")\n",
    "\n",
    "saldo= 1000\n",
    "op = 0\n",
    "\n",
    "\n",
    "while op != 4:\n",
    "    op = int(input(\"(1)Depositar dinero.\\n (2) Retirar Dinero.\\n (3) Consultar Saldo.\\n (4) Salir\"))\n",
    "    if op == 1:\n",
    "        cantidad_ingreso = float(input(\"Por favor añade la cantidad deseada\"))\n",
    "        if cantidad_ingreso > 0:\n",
    "            saldo = saldo + cantidad_ingreso\n",
    "        else:\n",
    "            print(\"Por favor, indica una cantidad correcta\")\n",
    "    \n",
    "    elif op == 2:\n",
    "        cantidad_retirada = float(input(\"Por favor, indica la cantidad que deseas retirar\"))\n",
    "        if cantidad_retirada <= saldo:\n",
    "            saldo = saldo - cantidad_retirada\n",
    "        else:\n",
    "            print(\"La cantidad a retirar debe de estar disponible en la cuenta\")\n",
    "    \n",
    "    elif op == 3:\n",
    "        print(f\"Su saldo actual es de: {saldo}\")\n",
    "    \n",
    "    elif op == 4:\n",
    "        print(f\"{nombre}, ¡Gracias por usar el servicio!\")\n",
    "        break\n",
    "\n",
    "    else:\n",
    "        print(\"Por favor, indique una opción válida, recuerde que tiene que seleccionar un número entre 1 y 4\")\n",
    "\n",
    "        \n",
    "    "
   ]
  },
  {
   "cell_type": "markdown",
   "metadata": {},
   "source": [
    "### Ejercicio: Adivina el Número\n",
    "\n",
    "**Enunciado:**\n",
    "\n",
    "Vas a crear un juego sencillo en el que el usuario tiene que adivinar un número generado aleatoriamente por el programa. El programa proporcionará pistas y continuará pidiendo al usuario que adivine hasta que lo haga correctamente. Sigue las instrucciones a continuación para completar el ejercicio.\n",
    "\n",
    "1. **Inicialización**:\n",
    "   - El programa debe generar un número aleatorio entre 1 y 100.\n",
    "   - Usa la biblioteca `random` para generar el número.\n",
    "\n",
    "2. **Menú de Opciones**:\n",
    "   - Muestra un menú con las siguientes opciones:\n",
    "     1. Iniciar un nuevo juego.\n",
    "     2. Salir.\n",
    "\n",
    "3. **Juego de Adivinanza**:\n",
    "   - Si el usuario elige la opción 1, inicia un nuevo juego.\n",
    "   - Pide al usuario que adivine el número.\n",
    "   - Usa un bucle `while` para continuar pidiendo adivinanzas hasta que el usuario adivine el número correctamente.\n",
    "   - Después de cada adivinanza, proporciona una pista:\n",
    "     - Si el número adivinado es mayor que el número generado, imprime \"Demasiado alto\".\n",
    "     - Si el número adivinado es menor que el número generado, imprime \"Demasiado bajo\".\n",
    "   - Si el usuario adivina el número correctamente, imprime un mensaje de felicitación y regresa al menú de opciones.\n",
    "\n",
    "4. **Salir**:\n",
    "   - Si el usuario elige la opción 2, termina el programa con un mensaje de despedida.\n",
    "\n",
    "5. **Entrada No Válida**:\n",
    "   - Si el usuario ingresa una opción que no es válida (no está entre 1 y 2), muestra un mensaje de error y vuelve a mostrar el menú.\n",
    "\n",
    "### Consideraciones:\n",
    "- Asegúrate de manejar adecuadamente las entradas del usuario para evitar errores.\n",
    "- Usa funciones para organizar tu código si es necesario.\n"
   ]
  },
  {
   "cell_type": "code",
   "execution_count": 4,
   "metadata": {},
   "outputs": [
    {
     "name": "stdout",
     "output_type": "stream",
     "text": [
      "84\n"
     ]
    }
   ],
   "source": [
    "import random\n",
    "num = random.randrange(1, 100)\n",
    "print(num)"
   ]
  },
  {
   "cell_type": "code",
   "execution_count": 12,
   "metadata": {},
   "outputs": [
    {
     "name": "stdout",
     "output_type": "stream",
     "text": [
      "Bienvenido al juego de adivinar un número\n"
     ]
    }
   ],
   "source": [
    "print(\"Bienvenido al juego de adivinar un número\")\n",
    "q_1 = int(input(\"Por favor, selecciona una opción escribiendo el número:.\\n (1) Iniciar juego.\\n (2) Salir\"))\n",
    "\n",
    "while q_1 != 2:\n",
    "    if q_1 == 1:\n",
    "        q_2 = int(input(\"Trata de adivinar un número entre 1 y 100, a continuación escribe tu respuesta. Recuerda que sólo valen números enteros\"))\n",
    "        if q_2 < num:\n",
    "            print(\"Demasiado bajo\")\n",
    "        elif q_2 > num:\n",
    "            print(\"Demasiado alto\")\n",
    "        elif q_2 == num:\n",
    "            print(f\"Enhorabuena!! {num} era el número correcto\")\n",
    "            break\n",
    "    elif q_1 == 2:\n",
    "        print(\"Gracias por jugar\")\n",
    "    \n",
    "    else:\n",
    "        print(\"Por favor, selecciona una opción válida\")\n",
    "    \n",
    "    "
   ]
  },
  {
   "cell_type": "code",
   "execution_count": 13,
   "metadata": {},
   "outputs": [
    {
     "name": "stdout",
     "output_type": "stream",
     "text": [
      "Bienvenido al juego de adivinar un número\n",
      "Por favor, selecciona una opción escribiendo el número:\n",
      "(1) Iniciar juego\n",
      "(2) Salir\n",
      "Demasiado alto\n",
      "Demasiado alto\n",
      "Demasiado bajo\n",
      "Demasiado alto\n",
      "Demasiado alto\n",
      "Demasiado alto\n",
      "¡Enhorabuena! 36 era el número correcto\n",
      "Bienvenido al juego de adivinar un número\n",
      "Por favor, selecciona una opción escribiendo el número:\n",
      "(1) Iniciar juego\n",
      "(2) Salir\n",
      "¡Hasta luego!\n"
     ]
    }
   ],
   "source": [
    "import random\n",
    "\n",
    "def mostrar_menu():\n",
    "    print(\"Bienvenido al juego de adivinar un número\")\n",
    "    print(\"Por favor, selecciona una opción escribiendo el número:\")\n",
    "    print(\"(1) Iniciar juego\")\n",
    "    print(\"(2) Salir\")\n",
    "\n",
    "# Mostrar el menú inicial\n",
    "mostrar_menu()\n",
    "opcion = int(input(\"Opción: \"))\n",
    "\n",
    "while opcion != 2:\n",
    "    if opcion == 1:\n",
    "        num = random.randint(1, 100)\n",
    "        while True:\n",
    "            q_2 = int(input(\"Trata de adivinar un número entre 1 y 100: \"))\n",
    "            if q_2 < num:\n",
    "                print(\"Demasiado bajo\")\n",
    "            elif q_2 > num:\n",
    "                print(\"Demasiado alto\")\n",
    "            elif q_2 == num:\n",
    "                print(f\"¡Enhorabuena! {num} era el número correcto\")\n",
    "                break\n",
    "    elif opcion == 2:\n",
    "        print(\"Gracias por jugar\")\n",
    "        break\n",
    "    else:\n",
    "        print(\"Por favor, selecciona una opción válida\")\n",
    "    \n",
    "    # Volver a mostrar el menú después de cada intento\n",
    "    mostrar_menu()\n",
    "    opcion = int(input(\"Opción: \"))\n",
    "\n",
    "print(\"¡Hasta luego!\")\n"
   ]
  },
  {
   "cell_type": "code",
   "execution_count": null,
   "metadata": {},
   "outputs": [],
   "source": []
  },
  {
   "cell_type": "code",
   "execution_count": null,
   "metadata": {},
   "outputs": [],
   "source": []
  },
  {
   "cell_type": "code",
   "execution_count": null,
   "metadata": {},
   "outputs": [],
   "source": []
  }
 ],
 "metadata": {
  "kernelspec": {
   "display_name": "Python 3",
   "language": "python",
   "name": "python3"
  },
  "language_info": {
   "codemirror_mode": {
    "name": "ipython",
    "version": 3
   },
   "file_extension": ".py",
   "mimetype": "text/x-python",
   "name": "python",
   "nbconvert_exporter": "python",
   "pygments_lexer": "ipython3",
   "version": "3.11.5"
  }
 },
 "nbformat": 4,
 "nbformat_minor": 2
}
