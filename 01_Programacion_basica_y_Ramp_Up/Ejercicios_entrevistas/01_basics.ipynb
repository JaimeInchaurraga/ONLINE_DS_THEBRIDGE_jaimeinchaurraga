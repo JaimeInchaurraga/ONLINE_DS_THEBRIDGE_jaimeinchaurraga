{
 "cells": [
  {
   "cell_type": "markdown",
   "metadata": {},
   "source": [
    "Ejercicio: Análisis Básico de Datos de Temperatura  \n",
    "\n",
    "Tienes un conjunto de datos que representa las temperaturas diarias (en grados Celsius) de una ciudad durante una semana.  \n",
    " El objetivo es escribir un programa en Python que realice varias tareas de análisis sobre estos datos.  \n",
    " temperaturas = [20, 22, 19, 24, 21, 23, 20]  \n",
    "\n",
    "\n",
    "\n",
    "Calcular la temperatura media de la semana:  \n",
    "\n",
    "Escribe una función llamada calcular_media que tome una lista de números como argumento y devuelva la media de esos números.  \n",
    "Encontrar la temperatura más alta y la más baja de la semana:  \n",
    "\n",
    "Escribe una función llamada encontrar_max_min que tome una lista de números como argumento y devuelva una tupla con la temperatura más alta y la más baja.  \n",
    "Contar cuántos días tuvieron una temperatura por encima de la media:  \n",
    "\n",
    "Escribe una función llamada contar_dias_sobre_media que tome una lista de números y un número (la media) como argumentos, y devuelva el número de días en los que la temperatura estuvo por encima de la media.  \n",
    "Generar una lista con las diferencias de temperatura entre días consecutivos:  \n",
    "\n",
    "Escribe una función llamada diferencias_diarias que tome una lista de números como argumento y devuelva una nueva lista con las diferencias de temperatura entre cada par de días consecutivos.  \n",
    "Encontrar la mayor subida y la mayor bajada de temperatura entre días consecutivos:  \n",
    "\n",
    "Escribe una función llamada mayor_subida_bajada que tome una lista de diferencias de temperatura como argumento y devuelva una tupla con la mayor subida y la mayor bajada.  \n"
   ]
  },
  {
   "cell_type": "markdown",
   "metadata": {},
   "source": []
  },
  {
   "cell_type": "code",
   "execution_count": 17,
   "metadata": {},
   "outputs": [
    {
     "name": "stdout",
     "output_type": "stream",
     "text": [
      "Media de temperaturas: 21.285714285714285\n",
      "Media de temperaturas con NumPy: 21.285714285714285\n",
      "Media de temperaturas con pandas: 21.285714285714285\n"
     ]
    }
   ],
   "source": [
    "import pandas as pd\n",
    "import numpy as np\n",
    "\n",
    "temperaturas = [20, 22, 19, 24, 21, 23, 20]\n",
    "\n",
    "# MEDIA\n",
    "\n",
    "# Método básico\n",
    "# Calcular la suma de las temperaturas usando la función sum()\n",
    "suma = sum(temperaturas)\n",
    "# Calcular la media dividiendo la suma entre el número de elementos\n",
    "media_temps = suma / len(temperaturas)\n",
    "\n",
    "print(f\"Media de temperaturas: {media_temps}\")\n",
    "\n",
    "# Con Numpy\n",
    "# Convertir la lista a un array de NumPy\n",
    "temperaturas_np = np.array(temperaturas)\n",
    "# Calcular la media usando el método mean() de NumPy\n",
    "media_temps_np = np.mean(temperaturas_np)\n",
    "\n",
    "print(f\"Media de temperaturas con NumPy: {media_temps_np}\")\n",
    "\n",
    "# Con pandas\n",
    "# Convertir la lista a una Serie de pandas\n",
    "temperaturas_pd = pd.Series(temperaturas)\n",
    "# Calcular la media usando el método mean() de pandas\n",
    "media_temps_pd = temperaturas_pd.mean()\n",
    "print(f\"Media de temperaturas con pandas: {media_temps_pd}\")\n",
    "\n"
   ]
  },
  {
   "cell_type": "code",
   "execution_count": 10,
   "metadata": {},
   "outputs": [
    {
     "name": "stdout",
     "output_type": "stream",
     "text": [
      "[20 22 19 24 21 23 20] <class 'numpy.float64'>\n",
      "21.29\n",
      "0    20\n",
      "1    22\n",
      "2    19\n",
      "3    24\n",
      "4    21\n",
      "5    23\n",
      "6    20\n",
      "dtype: int64 <class 'numpy.float64'>\n",
      "21.29\n"
     ]
    }
   ],
   "source": [
    "print(temperaturas_np,  type(media_temps_np))\n",
    "print(round(media_temps_np,2))\n",
    "\n",
    "print(temperaturas_pd, type(media_temps_pd))\n",
    "print(round(media_temps_pd,2))\n"
   ]
  },
  {
   "cell_type": "code",
   "execution_count": 12,
   "metadata": {},
   "outputs": [
    {
     "name": "stdout",
     "output_type": "stream",
     "text": [
      "Moda (forma normal): 20\n",
      "Moda (pandas): 20\n",
      "Moda (pandas con value_counts): 20\n"
     ]
    }
   ],
   "source": [
    "# MODA\n",
    "\n",
    "from collections import Counter\n",
    "\n",
    "def calcular_moda(lista):\n",
    "    frecuencia = Counter(lista)\n",
    "    moda = max(frecuencia, key=frecuencia.get)\n",
    "    return moda\n",
    "\n",
    "\n",
    "moda_normal = calcular_moda(temperaturas)\n",
    "\n",
    "print(f\"Moda (forma normal): {moda_normal}\")\n",
    "\n",
    "\n",
    "\n",
    "\n",
    "# Convertir la lista a una Serie de pandas\n",
    "temperaturas_pd = pd.Series(temperaturas)\n",
    "\n",
    "# Calcular la moda usando pandas\n",
    "moda_pd = temperaturas_pd.mode()[0]\n",
    "\n",
    "print(f\"Moda (pandas): {moda_pd}\")\n",
    "\n",
    "\n",
    "\n",
    "# Convertir la lista a una Serie de pandas CON VALUE_COUNTS\n",
    "temperaturas_pd = pd.Series(temperaturas)\n",
    "\n",
    "# Calcular la moda usando value_counts\n",
    "moda_value_counts = temperaturas_pd.value_counts().idxmax()\n",
    "\n",
    "print(f\"Moda (pandas con value_counts): {moda_value_counts}\")\n"
   ]
  },
  {
   "cell_type": "code",
   "execution_count": 13,
   "metadata": {},
   "outputs": [
    {
     "name": "stdout",
     "output_type": "stream",
     "text": [
      "Latemperatura máxima es: 24\n",
      "Latemperatura minima es: 19\n"
     ]
    }
   ],
   "source": [
    "# MÁXIMO Y MÍNIMO\n",
    "\n",
    "temperaturas = [20, 22, 19, 24, 21, 23, 20]\n",
    "maxima = max(temperaturas)\n",
    "minima = min(temperaturas)\n",
    "\n",
    "print(f\"Latemperatura máxima es: {maxima}\")\n",
    "print(f\"Latemperatura minima es: {minima}\")"
   ]
  },
  {
   "cell_type": "code",
   "execution_count": 18,
   "metadata": {},
   "outputs": [
    {
     "name": "stdout",
     "output_type": "stream",
     "text": [
      "Las temperaturas por encima de la media han sido: [22, 24, 23]\n"
     ]
    }
   ],
   "source": [
    "# DÍAS POR ENCIMA DE LA MEDIA\n",
    "encima_media = []\n",
    "for i in temperaturas:\n",
    "    if i > media_temps:\n",
    "        encima_media.append(i)\n",
    "\n",
    "print(f\"Las temperaturas por encima de la media han sido: {encima_media}\")"
   ]
  },
  {
   "cell_type": "markdown",
   "metadata": {},
   "source": [
    "Ejercicio: Análisis de Ventas Diarias  \n",
    "Enunciado:  \n",
    "\n",
    "Eres el encargado de analizar las ventas diarias de una tienda durante una semana.  \n",
    " Las ventas diarias están almacenadas en una lista llamada ventas_diarias, donde cada elemento representa el total de ventas de un día específico.  \n",
    "\n",
    "Tu tarea es escribir un programa en Python que realice las siguientes operaciones:  \n",
    "\n",
    "Calcule el total de ventas de la semana.  \n",
    "Encuentre el día con las ventas más altas y el día con las ventas más bajas.  \n",
    "Calcule la media de las ventas diarias.  \n",
    "Genere una lista con los días que tuvieron ventas por encima de la media.  \n",
    "Genere una lista con los días que tuvieron ventas por debajo de la media.  \n",
    "Los datos de las ventas diarias están dados por la siguiente lista:  "
   ]
  },
  {
   "cell_type": "code",
   "execution_count": 19,
   "metadata": {},
   "outputs": [],
   "source": [
    "ventas_diarias = [150, 200, 50, 300, 250, 100, 400]"
   ]
  },
  {
   "cell_type": "code",
   "execution_count": 25,
   "metadata": {},
   "outputs": [
    {
     "name": "stdout",
     "output_type": "stream",
     "text": [
      "El total de ventas ha sido de: 1450\n"
     ]
    }
   ],
   "source": [
    "total_ventas = sum(ventas_diarias)\n",
    "print(f\"El total de ventas ha sido de: {total_ventas}\")"
   ]
  },
  {
   "cell_type": "code",
   "execution_count": 26,
   "metadata": {},
   "outputs": [
    {
     "name": "stdout",
     "output_type": "stream",
     "text": [
      " El máximo de ventas ha sido de: 400\n",
      " El mínimo de ventas ha sido de: 50\n"
     ]
    }
   ],
   "source": [
    "max_ventas = max(ventas_diarias)\n",
    "min_ventas = min(ventas_diarias)\n",
    "\n",
    "print(f\" El máximo de ventas ha sido de: {max_ventas}\")\n",
    "print(f\" El mínimo de ventas ha sido de: {min_ventas}\")\n"
   ]
  },
  {
   "cell_type": "code",
   "execution_count": 29,
   "metadata": {},
   "outputs": [
    {
     "name": "stdout",
     "output_type": "stream",
     "text": [
      "La media de las ventas ha sido de: 207.14\n"
     ]
    }
   ],
   "source": [
    "dias = len(ventas_diarias)\n",
    "sum_ventas = sum(ventas_diarias)\n",
    "mean_ventas = sum_ventas / dias\n",
    "\n",
    "print(f\"La media de las ventas ha sido de: {round(mean_ventas,2)}\")"
   ]
  },
  {
   "cell_type": "code",
   "execution_count": 32,
   "metadata": {},
   "outputs": [
    {
     "name": "stdout",
     "output_type": "stream",
     "text": [
      "Las ventas superiores a la media han sido: [(4, 300), (5, 250), (7, 400)]\n",
      "Las ventas inferiores a la media han sido: [(1, 150), (2, 200), (3, 50), (6, 100)]\n"
     ]
    }
   ],
   "source": [
    "dias_over_mean = []\n",
    "dias_under_mean = []\n",
    "for idx, dia in enumerate(ventas_diarias):\n",
    "    if dia > mean_ventas:\n",
    "        dias_over_mean.append((idx + 1, dia))  # Añadir 1 al índice para representar días de 1 a 7\n",
    "    else:\n",
    "        dias_under_mean.append((idx + 1, dia))\n",
    "\n",
    "print(f\"Las ventas superiores a la media han sido: {dias_over_mean}\")\n",
    "print(f\"Las ventas inferiores a la media han sido: {dias_under_mean}\")\n"
   ]
  },
  {
   "cell_type": "markdown",
   "metadata": {},
   "source": [
    "## Ejercicio: Gestión de Inventario de una Librería\n",
    "\n",
    "### Parte 1: Crear un diccionario\n",
    "\n",
    "1. **Crear el diccionario del inventario**:  \n",
    "   - Crea un diccionario llamado `inventario` que almacene el nombre del libro como clave y la cantidad en stock como valor.\n",
    "   - Añade al menos cinco libros diferentes con sus respectivas cantidades.\n",
    "\n",
    "2. **Mostrar el inventario**:  \n",
    "   - Imprime cada libro y su cantidad en stock en líneas separadas.\n",
    "\n",
    "### Parte 2: Modificar el inventario\n",
    "\n",
    "3. **Añadir un nuevo libro**:  \n",
    "   - Añade un nuevo libro al inventario. Si el libro ya existe, incrementa su cantidad en stock.\n",
    "\n",
    "4. **Eliminar un libro**:  \n",
    "   - Elimina un libro del inventario. Si el libro no está en el inventario, muestra un mensaje indicando que el libro no se encontró.\n",
    "\n",
    "5. **Actualizar la cantidad de un libro**:  \n",
    "   - Actualiza la cantidad de un libro en el inventario. Si el libro no está en el inventario, muestra un mensaje indicando que el libro no se encontró.\n",
    "\n",
    "### Parte 3: Utilizar métodos y funciones\n",
    "\n",
    "6. **Libros agotados**:  \n",
    "   - Encuentra y muestra una lista con los nombres de los libros que tienen una cantidad en stock de 0.\n",
    "\n",
    "7. **Total de libros en stock**:  \n",
    "   - Calcula y muestra el total de libros en stock sumando las cantidades de todos los libros en el inventario.\n",
    "\n",
    "### Parte 4: Implementación\n",
    "\n",
    "8. **Implementar y probar**:  \n",
    "   - Implementa todas las acciones mencionadas anteriormente y pruébalas con el diccionario `inventario` que creaste al principio. Asegúrate de que cada acción funcione correctamente y muestre los resultados esperados.\n",
    "\n",
    "### Parte 5: Diccionario adicional\n",
    "\n",
    "9. **Inventario adicional**:  \n",
    "   - Crea otro diccionario llamado `inventario_adicional` con al menos tres libros diferentes y sus cantidades en stock.\n",
    "\n",
    "10. **Fusionar inventarios**:  \n",
    "    - Fusiona `inventario_adicional` con `inventario`, sumando las cantidades de los libros que existan en ambos inventarios y añadiendo los libros que no estén en `inventario`.\n",
    "\n",
    "### Ejemplo de Salida Esperada\n",
    "\n",
    "Para ayudarte a entender el ejercicio, aquí tienes un ejemplo de cómo debería verse la salida esperada de tu programa:\n",
    "\n",
    "```plaintext\n",
    "Inventario de libros:\n",
    "1984: 5\n",
    "Brave New World: 8\n",
    "Fahrenheit 451: 3\n",
    "The Catcher in the Rye: 6\n",
    "To Kill a Mockingbird: 4\n",
    "\n",
    "Añadiendo el libro 'The Great Gatsby' con 5 unidades.\n",
    "Eliminando el libro 'Fahrenheit 451'.\n",
    "Actualizando la cantidad del libro '1984' a 10 unidades.\n",
    "\n",
    "Libros agotados: []\n",
    "Total de libros en stock: 33\n",
    "\n",
    "Fusionando inventarios con inventario adicional:\n",
    "The Great Gatsby: 12\n",
    "Moby Dick: 2\n",
    "1984: 13\n"
   ]
  },
  {
   "cell_type": "code",
   "execution_count": 20,
   "metadata": {},
   "outputs": [
    {
     "name": "stdout",
     "output_type": "stream",
     "text": [
      "Inventario inicial:\n",
      "libro_uno: 3\n",
      "libro_dos: 1\n",
      "libro_tres: 3\n",
      "libro_cuatro: 6\n",
      "libro_cinco: 2\n",
      "\n",
      "Inventario después de añadir libro_uno y libro_seis:\n",
      "libro_uno: 6.0\n",
      "libro_dos: 1\n",
      "libro_tres: 3\n",
      "libro_cuatro: 6\n",
      "libro_cinco: 2\n",
      "libro_seis: 20\n",
      "\n",
      "Inventario después de eliminar libro_cuatro:\n",
      "libro_uno: 6.0\n",
      "libro_dos: 1\n",
      "libro_tres: 3\n",
      "libro_cinco: 2\n",
      "libro_seis: 20\n",
      "\n",
      "Inventario después de actualizar libro_cuatro:\n",
      "libro_uno: 6.0\n",
      "libro_dos: 1\n",
      "libro_tres: 3\n",
      "libro_cinco: 2\n",
      "libro_seis: 20\n",
      "libro_cuatro: 20.0\n"
     ]
    }
   ],
   "source": [
    "# Crea un diccionario llamado `inventario` que almacene el nombre del libro como clave y la cantidad en stock como valor.\n",
    "inventario = {\n",
    "    \"libro_uno\": 3,\n",
    "    \"libro_dos\": 1,\n",
    "    \"libro_tres\": 3,\n",
    "    \"libro_cuatro\": 6,\n",
    "    \"libro_cinco\": 2\n",
    "}\n",
    "\n",
    "# Imprime cada libro y su cantidad en stock en líneas separadas.\n",
    "print(\"Inventario inicial:\")\n",
    "for libro, cantidad in inventario.items():\n",
    "    print(f\"{libro}: {cantidad}\")\n",
    "\n",
    "# Añade un nuevo libro al inventario. Si el libro ya existe, incrementa su cantidad en stock.\n",
    "inventario[\"libro_uno\"] = 12 / 2  # Actualiza la cantidad del libro_uno\n",
    "inventario[\"libro_seis\"] = 20  # Añade un nuevo libro 'libro_seis'\n",
    "\n",
    "print(\"\\nInventario después de añadir libro_uno y libro_seis:\")\n",
    "for libro, cantidad in inventario.items():\n",
    "    print(f\"{libro}: {cantidad}\")\n",
    "\n",
    "# Elimina un libro del inventario. Si el libro no está en el inventario, muestra un mensaje indicando que el libro no se encontró.\n",
    "if \"libro_cuatro\" in inventario:\n",
    "    del inventario[\"libro_cuatro\"]\n",
    "    print(\"\\nInventario después de eliminar libro_cuatro:\")\n",
    "    for libro, cantidad in inventario.items():\n",
    "        print(f\"{libro}: {cantidad}\")\n",
    "else:\n",
    "    print(\"\\nEl libro 'libro_cuatro' no está en el inventario.\")\n",
    "\n",
    "# Actualiza la cantidad de un libro en el inventario.\n",
    "inventario[\"libro_cuatro\"] = (8 / 2) * (10 / 2)  # Actualiza la cantidad del libro_cuatro\n",
    "\n",
    "print(\"\\nInventario después de actualizar libro_cuatro:\")\n",
    "for libro, cantidad in inventario.items():\n",
    "    print(f\"{libro}: {cantidad}\")\n"
   ]
  },
  {
   "cell_type": "code",
   "execution_count": null,
   "metadata": {},
   "outputs": [],
   "source": []
  },
  {
   "cell_type": "code",
   "execution_count": null,
   "metadata": {},
   "outputs": [],
   "source": []
  }
 ],
 "metadata": {
  "kernelspec": {
   "display_name": "Python 3",
   "language": "python",
   "name": "python3"
  },
  "language_info": {
   "codemirror_mode": {
    "name": "ipython",
    "version": 3
   },
   "file_extension": ".py",
   "mimetype": "text/x-python",
   "name": "python",
   "nbconvert_exporter": "python",
   "pygments_lexer": "ipython3",
   "version": "3.11.5"
  }
 },
 "nbformat": 4,
 "nbformat_minor": 2
}
