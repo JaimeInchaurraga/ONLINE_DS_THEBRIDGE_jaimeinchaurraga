{
 "cells": [
  {
   "cell_type": "markdown",
   "metadata": {},
   "source": [
    "<img src = \"./img/TheBridge_logo_RGB_color.jpg\" width = 300>\n",
    "<img src = \"./img/python.jpg\" width = 300>"
   ]
  },
  {
   "cell_type": "markdown",
   "metadata": {},
   "source": [
    "# Python: Flujos de Control\n",
    "\n",
    "\n",
    "\n",
    "Hasta ahora hemos visto cómo ejecutar un programa secuencialmente, empieza en la primera línea y acaba en la última. Pero ¿y si queremos que cambien los outputs del programa en función de ciertas condiciones, o si queremos que tome otros caminos en caso de encontrar errores?. Todo esto lo podremos hacer con los flujos de control. Sentencias que encontrarás en todos los lenguajes de programación.\n",
    "\n",
    "Este notebook nos va a servir para tratar las sentencias if y los bucles for, el corazón de la programación.\n"
   ]
  },
  {
   "cell_type": "markdown",
   "metadata": {},
   "source": [
    "## Contenidos"
   ]
  },
  {
   "cell_type": "markdown",
   "metadata": {},
   "source": [
    "* [1. Sintaxis de línea](#1.-Sintaxis-de-línea)\n",
    "\n",
    "* [2. if/elif/else](#2.-if/elif/else)\n",
    "\n",
    "* [3. Bucle for](#3.-Bucle-for)\n",
    "\n"
   ]
  },
  {
   "cell_type": "markdown",
   "metadata": {},
   "source": [
    "## 1. Sintaxis de línea\n",
    "\n",
    "[al indice](#Contenidos)  \n",
    "\n",
    "La manera en la que Python encapsula todo el código que va dentro de un flujo de control como `if` o `for` es diferente a como se suele hacer en otros lenguajes, en los que se rodea de llaves `{}` o paréntesis `()` todo el contenido del flujo. Con Python no. En Python simplemente hay que añadir una tabulación a cada línea de código que vaya dentro del flujo de control.\n",
    "\n",
    "> ```Python\n",
    "> if 3>2:\n",
    ">     \"Código dentro de esta sentencia if\"\n",
    ">     \"Esta línea sigue dentro de la sentencia if\"\n",
    ">\n",
    ">\"Código fuera de la sentencia if\"\n",
    "> ```"
   ]
  },
  {
   "cell_type": "markdown",
   "metadata": {},
   "source": [
    "### Sintaxis\n",
    "Toda sentencia `if`, `for`, `while`, `try`, etc. lleva dos puntos. Y después de los dos puntos, tabulado, va todo el contenido de ese bloque. **Siempre**.\n",
    "\n",
    "Si pones los dos puntos y le das a enter, Jupyter automáticamente te tabula todo lo que vayas a escribir a continuación.\n",
    "\n",
    "Veamos un ejemplo. Tenemos una lista de numeros, y queremos ver cuáles son enteros. Para ello los recorremos con un `for` (vermos más en profundiad en este notebook). Vamos iternando uno a uno cada elemento. Luego mediante un `if` comprobamos si es entero. Fíjate que todo lo que va dentro del `for` lleva una tabulación y lo que va dentro del `if` lleva dos tabulaciones, puesto que sus sentencias van tanto dentro del `if`, como dentro del `for`."
   ]
  },
  {
   "cell_type": "code",
   "execution_count": 2,
   "metadata": {},
   "outputs": [
    {
     "name": "stdout",
     "output_type": "stream",
     "text": [
      "Comienza iteración con 4\n",
      "El numero 4 es un entero\n",
      "Finaliza iteración con 4\n",
      "Comienza iteración con 6\n",
      "El numero 6 es un entero\n",
      "Finaliza iteración con 6\n",
      "Comienza iteración con 4.0\n",
      "Finaliza iteración con 4.0\n",
      "Comienza iteración con 3.0\n",
      "Finaliza iteración con 3.0\n",
      "Finaliza celda\n"
     ]
    }
   ],
   "source": [
    "numeros = [4, 6, 4.0, 3.0]\n",
    "\n",
    "for elemento in numeros:\n",
    "    print(\"Comienza iteración con\",elemento)\n",
    "    if type(elemento) == int:        \n",
    "        print(\"El numero\", elemento, \"es un entero\")\n",
    "    print(\"Finaliza iteración con\", elemento)\n",
    "\n",
    "print(\"Finaliza celda\")"
   ]
  },
  {
   "cell_type": "markdown",
   "metadata": {},
   "source": [
    "<table align=\"left\">\n",
    " <tr>\n",
    "     <td style=\"text-align:left\">\n",
    "         <h3>ERRORES ¿Qué ocurre si nos olvidamos de tabular?</h3>\n",
    "         \n",
    " </td></tr>\n",
    "</table>"
   ]
  },
  {
   "cell_type": "code",
   "execution_count": null,
   "metadata": {},
   "outputs": [],
   "source": []
  },
  {
   "cell_type": "markdown",
   "metadata": {},
   "source": [
    "### ¿Tabulaciones o espacios?\n",
    "Cuidado con las tabulaciones ya que cuando pasamos de un editor de Python a otro, o cuando ejecutamos un corrector de estilo sobre nuestro código, hay veces que las tabulaciones dan problemas. Es por ello que muchos programadores en vez de usar tabulaciones, los sustituyen por 4 espacios. \n",
    "\n",
    "Entonces, ¿qué usamos? Lo más cómo es añadir una tabulación, para algunos lo más correcto son espacios. En Jupyter esto es bastante transparente para nosotros ya que cuando añadimos una tabulación, realmente Jupyter lo traduce a 4 espacios, por lo que no debería ser un tema preocupante"
   ]
  },
  {
   "cell_type": "markdown",
   "metadata": {},
   "source": [
    "## 2. if/elif/else\n",
    "\n",
    "[al indice](#Contenidos)  \n",
    "\n",
    "En función de lo que valgan unas condiciones booleanas, ejecutaremos unas líneas de código, u otras. La sintaxis es muy sencilla:\n",
    "\n",
    "\n",
    "> ```Python\n",
    "> if condiciones:\n",
    ">     Si se cumplen las condiciones, ejecuta este código\n",
    "> else:\n",
    ">     Si no, ejecutas estre otro código\n",
    "> ```\n",
    "    \n",
    "Veamos un ejemplo"
   ]
  },
  {
   "cell_type": "code",
   "execution_count": 3,
   "metadata": {},
   "outputs": [
    {
     "name": "stdout",
     "output_type": "stream",
     "text": [
      "Lo siento, has suspendido\n"
     ]
    }
   ],
   "source": [
    "ask_calif = int(input(\"¿Me puedes decir la nota por favor?\"))\n",
    "\n",
    "if ask_calif >= 5:\n",
    "   print(\"Has aprobado\")\n",
    "else:\n",
    "    print(\"Lo siento, has suspendido\")\n"
   ]
  },
  {
   "cell_type": "markdown",
   "metadata": {},
   "source": [
    "Únicamente se ejecuta la parte de código que consigue un `True` en la condición. `print(\"Aprobado!\")` sólo se imprimirá por pantalla si la nota es mayor o igual a 5.\n",
    "\n",
    "Vamos a ver otro ejemplo. Ahora quiero un poco más de granularidad en la nota, con bienes, notables y tal"
   ]
  },
  {
   "cell_type": "code",
   "execution_count": 4,
   "metadata": {},
   "outputs": [
    {
     "name": "stdout",
     "output_type": "stream",
     "text": [
      "Has aprobado\n"
     ]
    }
   ],
   "source": [
    "ask_calif = int(input(\"¿Me puedes decir la nota por favor?\"))\n",
    "\n",
    "if ask_calif <= 4:\n",
    "   print(\"Has suspendido\")\n",
    "\n",
    "elif ask_calif <= 6:\n",
    "    print(\"Has aprobado\")\n",
    "          \n",
    "elif ask_calif <= 8:\n",
    "    print(\"Notable\")\n",
    "\n",
    "else:\n",
    "    print(\"Sobresaliente!!\")"
   ]
  },
  {
   "cell_type": "markdown",
   "metadata": {},
   "source": [
    "**IMPORTANTE**. Todos los `ifs` se ejecutan secuencialmente. Por eso, en este caso no es necesario acotar tanto la nota:\n",
    "\n",
    "* Primero comprueba si es menor de 5, de ser así, suspenso.\n",
    "* Ya sabemos que es mayor o igual a 5\n",
    "* En la siguiente condición comprueba si es menor que 6, es decir, entre 5 y 6. Si es `False`, seguimos a la siguiente condición. Ahora bien, si es `True`, ejecutamos únicamente ese código y nos olvidamos de todo lo demás. Ya puede haber 150 condiciones, que si la primera es `True`, el resto es como si no existiese.\n",
    "\n",
    "Fíjate que la sintaxis es bastante intuitiva. `if` una condición, dos puntos y me ejecutas todo lo que hay aqui dentro, `elif` (acorta el `else if`), si se cumple esta otra condición, se ejecuta este otro código. Y si no se cumple ninguna de estas, ejecuta lo que haya en el `else`."
   ]
  },
  {
   "cell_type": "markdown",
   "metadata": {},
   "source": [
    "¿Recuerdas lo que viste con el *Algebra de Boole*? Este es el momento de utilizarlo. Cuando acudimos a varias condiciones dentro de un mismo `if`, tenemos que tener muy claras las operaciones binarias que estamos realizando."
   ]
  },
  {
   "cell_type": "code",
   "execution_count": 5,
   "metadata": {},
   "outputs": [
    {
     "name": "stdout",
     "output_type": "stream",
     "text": [
      "Es un ave\n"
     ]
    }
   ],
   "source": [
    "pico = True\n",
    "alas = True\n",
    "sonido = \"Piar\"\n",
    "patas = 2\n",
    "volar = True\n",
    "\n",
    "if pico and alas and sonido == \"Piar\" and volar:\n",
    "    print(\"Es un ave\")\n",
    "elif sonido == \"Ladrido\":\n",
    "    print(\"Es un perro\")\n",
    "else:\n",
    "    print(\"Un ser humano\")\n",
    "\n"
   ]
  },
  {
   "attachments": {
    "ejercicio.png": {
     "image/png": "[encoded data removed]"
    }
   },
   "cell_type": "markdown",
   "metadata": {},
   "source": [
    "![ejercicio.png](attachment:ejercicio.png)<table align=\"left\">\n",
    " <tr>\n",
    "     <td style=\"text-align:left\">\n",
    "         <h3>Ejercicio if/else</h3>\n",
    "\n",
    "El ejemplo de las notas está muy bien, pero demasiado sencillo. ¿Qué pasa si la nota es mayor de 10 o menor que 0? No parece una nota correcta. En programación hay que anticiparse a los errores. Reescribe el código para tener en cuenta esos casos, cuya nota tendrás que catalogarla como \"Nota errónea\"\n",
    "         \n",
    " </td></tr>\n",
    "</table>"
   ]
  },
  {
   "cell_type": "code",
   "execution_count": 7,
   "metadata": {},
   "outputs": [
    {
     "name": "stdout",
     "output_type": "stream",
     "text": [
      "Has aprobado\n"
     ]
    }
   ],
   "source": [
    "ask_calif = int(input(\"¿Me puedes decir la nota por favor?\"))\n",
    "\n",
    "if ask_calif < 0 or ask_calif > 10:\n",
    "    print(\"Nota errónea\")\n",
    "elif ask_calif <= 4:\n",
    "    print(\"Has suspendido\")\n",
    "elif ask_calif <= 6:\n",
    "    print(\"Has aprobado\")\n",
    "elif ask_calif <= 8:\n",
    "    print(\"Notable\")\n",
    "elif ask_calif <= 10:\n",
    "    print(\"Sobresaliente!!\")"
   ]
  },
  {
   "attachments": {},
   "cell_type": "markdown",
   "metadata": {},
   "source": [
    "## 3. Bucle for\n",
    "[al indice](#Contenidos)  \n",
    "\n",
    "Gracias a los bucles podemos ejecutar código repetitivo, de manera bastante automática. Son muy útiles para que nuestro código no sea redundante, y también para aplicar operaciones cuando manejamos iterables. Un iterable no es más que una colección de objetos (una lista es un iterable) que podremos ir recorriendo uno a uno con el bucle `for`, y aplicar operaciones a cada elemento.\n",
    "\n",
    "La sintaxis de los bucles `for` es la siguiente:\n",
    "\n",
    "> ```Python\n",
    "> for var_ejecucion in limites_ejecucion:\n",
    ">     \"código del for\"\n",
    "> ```\n",
    "    \n",
    "    \n",
    "* **Límites de ejecución**: La cantidad de veces que queremos que se ejecute un `for`. Esto es así porque si no se ejecutarían hasta el infinito. Y además, tienen una variable de ejecución que se va actualizando. Por ejemplo del 1 al 10. Primero valdría 1, luego 2...así hasta 10.\n",
    "\n",
    "\n",
    "* **Variable de ejecución**: dentro del for habrá una variable que se irá actualizando con cada ejecución. En el ejemplo del 1 al 10, primero la variable valdrá 1, luego 2, y así hasta 10.\n",
    "\n",
    "![for-loop-python.png](./img/for-loop-python.jpg)"
   ]
  },
  {
   "cell_type": "markdown",
   "metadata": {},
   "source": [
    "Mejor vemos un ejemplo para entenderlo. Tienes las notas de tres alumnos en una lista, y quieres imprimir por pantalla las notas"
   ]
  },
  {
   "cell_type": "code",
   "execution_count": 8,
   "metadata": {},
   "outputs": [],
   "source": [
    "notas = [3, 6, 9]"
   ]
  },
  {
   "cell_type": "markdown",
   "metadata": {},
   "source": [
    "Genial, pero qué ocurre si ahora tienes 30 notas, o simplemente quieres que tu programa no dependa de cuantas notas tienes, unas veces son 30, otras 20..."
   ]
  },
  {
   "cell_type": "code",
   "execution_count": 9,
   "metadata": {},
   "outputs": [
    {
     "name": "stdout",
     "output_type": "stream",
     "text": [
      "El estudiante ha obtenido un suspenso con una nota de 4\n",
      "El estudiante ha obtenido un aprobado con una nota de 5\n",
      "El estudiante ha obtenido un notable con una nota de 7\n",
      "El estudiante ha obtenido un suspenso con una nota de 3\n",
      "El estudiante ha obtenido un suspenso con una nota de 4\n",
      "La nota 12 es errónea, debe estar en el rango de 0 a 10.\n",
      "El estudiante ha obtenido un aprobado con una nota de 6\n",
      "El estudiante ha obtenido un aprobado con una nota de 5\n",
      "El estudiante ha obtenido un aprobado con una nota de 5\n",
      "El estudiante ha obtenido un suspenso con una nota de 4\n",
      "El estudiante ha obtenido un aprobado con una nota de 5\n",
      "El estudiante ha obtenido un aprobado con una nota de 5\n",
      "El estudiante ha obtenido un aprobado con una nota de 6\n"
     ]
    }
   ],
   "source": [
    "notas_clase = [4,5,7,3,4,12,6,5,5,4,5,5,6]\n",
    "\n",
    "notas_clase = [4, 5, 7, 3, 4, 12, 6, 5, 5, 4, 5, 5, 6]\n",
    "\n",
    "for nota in notas_clase:\n",
    "    if  nota  <= 0 or nota >= 10:\n",
    "        print(\"La nota\", nota, \"es errónea, debe estar en el rango de 0 a 10.\")\n",
    "    elif nota <= 4:\n",
    "        print(\"El estudiante ha obtenido un suspenso con una nota de\", nota)\n",
    "    elif nota <= 6:\n",
    "        print(\"El estudiante ha obtenido un aprobado con una nota de\", nota)\n",
    "    elif nota <= 8:\n",
    "        print(\"El estudiante ha obtenido un notable con una nota de\", nota)\n",
    "    else:\n",
    "        print(\"El estudiante ha obtenido un sobresaliente con una nota de\", nota)\n"
   ]
  },
  {
   "cell_type": "code",
   "execution_count": 8,
   "metadata": {},
   "outputs": [
    {
     "name": "stdout",
     "output_type": "stream",
     "text": [
      "El estudiante ha obtenido un suspenso con una nota de 4\n",
      "El estudiante ha obtenido un aprobado con una nota de 5\n",
      "El estudiante ha obtenido un notable con una nota de 7\n",
      "El estudiante ha obtenido un suspenso con una nota de 3\n",
      "El estudiante ha obtenido un suspenso con una nota de 4\n",
      "El estudiante ha obtenido un aprobado con una nota de 6\n",
      "El estudiante ha obtenido un aprobado con una nota de 5\n",
      "El estudiante ha obtenido un aprobado con una nota de 5\n",
      "El estudiante ha obtenido un suspenso con una nota de 4\n",
      "El estudiante ha obtenido un aprobado con una nota de 5\n",
      "El estudiante ha obtenido un aprobado con una nota de 6\n",
      "La nota 33 es errónea, debe estar en el rango de 0 a 10.\n",
      "El estudiante ha obtenido un notable con una nota de 7\n",
      "El estudiante ha obtenido un notable con una nota de 8\n",
      "El estudiante ha obtenido un notable con una nota de 7\n",
      "El estudiante ha obtenido un aprobado con una nota de 6\n",
      "El estudiante ha obtenido un suspenso con una nota de 4\n",
      "El estudiante ha obtenido un aprobado con una nota de 6\n",
      "El estudiante ha obtenido un aprobado con una nota de 5\n",
      "El estudiante ha obtenido un aprobado con una nota de 5\n",
      "La nota -4 es errónea, debe estar en el rango de 0 a 10.\n",
      "El estudiante ha obtenido un suspenso con una nota de 4\n",
      "El estudiante ha obtenido un aprobado con una nota de 5\n",
      "El estudiante ha obtenido un aprobado con una nota de 6\n",
      "La nota 15 es errónea, debe estar en el rango de 0 a 10.\n"
     ]
    }
   ],
   "source": [
    "# Si me cambia el numero de alumnos, el for de antes me vale igual\n",
    "notas_clase = [4,5,7,3,4,6,5,5,4,5,6,33,7,8,7,6,4,6,5,5,-4,4,5,6,15]\n",
    "for nota in notas_clase:\n",
    "    if  nota  <= 0 or nota >= 10:\n",
    "        print(\"La nota\", nota, \"es errónea, debe estar en el rango de 0 a 10.\")\n",
    "    elif nota <= 4:\n",
    "        print(\"El estudiante ha obtenido un suspenso con una nota de\", nota)\n",
    "    elif nota <= 6:\n",
    "        print(\"El estudiante ha obtenido un aprobado con una nota de\", nota)\n",
    "    elif nota <= 8:\n",
    "        print(\"El estudiante ha obtenido un notable con una nota de\", nota)\n",
    "    else:\n",
    "        print(\"El estudiante ha obtenido un sobresaliente con una nota de\", nota)"
   ]
  },
  {
   "cell_type": "code",
   "execution_count": 17,
   "metadata": {},
   "outputs": [
    {
     "name": "stdout",
     "output_type": "stream",
     "text": [
      "Menuda chustoon de día el Lunes\n",
      "Menuda chusta de día el Martes\n",
      "Miércoles? Va mejorando el tema\n",
      "Jueves eh? Ya casi Viernes\n",
      "Goood mi pana!\n",
      "También good aaamigo!\n",
      "También good aaamigo!\n"
     ]
    }
   ],
   "source": [
    "# Si en vez de numeros, tenemos texto, también nos vale\n",
    "dias_semana = [\"Lunes\", \"Martes\", \"Miércoles\", \"Jueves\", \"Viernes\", \"Sábado\", \"Domingo\"]\n",
    "for dia in dias_semana:\n",
    "    if dia == \"Lunes\":\n",
    "        print(\"Menuda chustoon de día el Lunes\")\n",
    "    \n",
    "    elif dia == \"Martes\":\n",
    "        print(\"Menuda chusta de día el Martes\")\n",
    "    \n",
    "    elif dia == \"Miércoles\":\n",
    "        print(\"Miércoles? Va mejorando el tema\")\n",
    "        \n",
    "    elif dia == \"Jueves\":\n",
    "        print(\"Jueves eh? Ya casi Viernes\")\n",
    "    \n",
    "    elif dia == \"Viernes\":\n",
    "        print(\"Goood mi pana!\")\n",
    "        \n",
    "    else:\n",
    "        print(\"También good aaamigo!\")\n",
    "\n",
    "\n"
   ]
  },
  {
   "cell_type": "markdown",
   "metadata": {},
   "source": [
    "Todo objeto que sea **iterable**, lo podrás recorrer en un `for`. Veremos los iterables más en detalle en las colecciones."
   ]
  },
  {
   "cell_type": "code",
   "execution_count": null,
   "metadata": {},
   "outputs": [],
   "source": [
    "# Fijate que un String también es un iterable\n"
   ]
  },
  {
   "cell_type": "markdown",
   "metadata": {},
   "source": [
    "El bucle for resulta de gran utilidad para **aplicar operaciones a cada elemento**. Hasta ahora solo hemos impreso items por pantalla, pero ¿y si queremos subir la nota de todos los alumnos un punto extra? No puedo hacer `lista + 1`. Tendré que iterar/recorrer cada elemento y aplicarle la operación."
   ]
  },
  {
   "cell_type": "code",
   "execution_count": 23,
   "metadata": {},
   "outputs": [
    {
     "name": "stdout",
     "output_type": "stream",
     "text": [
      "Nota inicial: 4\n",
      "indice: 0\n",
      "Ha hecho el trabajo\n",
      "Le subo la nota\n",
      "Nota final: 5\n",
      "Nota inicial: 5\n",
      "indice: 1\n",
      "Vaguete, no le subo la nota\n",
      "Nota inicial: 7\n",
      "indice: 2\n",
      "Ha hecho el trabajo\n",
      "Le subo la nota\n",
      "Nota final: 8\n",
      "Nota inicial: 3\n",
      "indice: 3\n",
      "Ha hecho el trabajo\n",
      "Le subo la nota\n",
      "Nota final: 4\n",
      "Nota inicial: 4\n",
      "indice: 4\n",
      "Vaguete, no le subo la nota\n"
     ]
    }
   ],
   "source": [
    "notas_clase = [4,5,7,3,4,]\n",
    "trabajo_en_clase = [True,False,True,True,False]\n",
    "indice = 0\n",
    "\n",
    "for nota in notas_clase:\n",
    "    print(\"Nota inicial:\", nota)\n",
    "    print(\"indice:\", indice)\n",
    "    \n",
    "    trabajo = trabajo_en_clase[indice]\n",
    "    if trabajo:\n",
    "        nota += 1\n",
    "        print(\"Ha hecho el trabajo\")\n",
    "        print(\"Le subo la nota\")\n",
    "        print(\"Nota final:\", nota)\n",
    "    else:\n",
    "        print(\"Vaguete, no le subo la nota\")\n",
    "\n",
    "    indice = indice + 1\n",
    "    \n",
    "    "
   ]
  },
  {
   "cell_type": "code",
   "execution_count": null,
   "metadata": {},
   "outputs": [],
   "source": [
    "notas_clase = [4, 5, 7, 3, 4]  # Definimos una lista de notas iniciales de los estudiantes.\n",
    "trabajo_en_clase = [True, False, True, True, False]  # Definimos una lista de booleanos que indica si cada estudiante hizo el trabajo en clase.\n",
    "indice = 0  # Inicializamos una variable llamada \"indice\" a 0. Esta variable se usará para rastrear la posición actual en las listas.\n",
    "\n",
    "# Comienza un bucle \"for\" que recorre la lista de \"notas_clase\".\n",
    "for nota in notas_clase:\n",
    "    print(\"Nota inicial:\", nota)  # Muestra la nota inicial del estudiante en la pantalla.\n",
    "    print(\"indice:\", indice)  # Muestra el índice actual en la lista.\n",
    "\n",
    "    trabajo = trabajo_en_clase[indice]  # Obtiene el valor de \"trabajo\" para el estudiante actual desde la lista \"trabajo_en_clase\".\n",
    "\n",
    "    if trabajo:\n",
    "        # Si el estudiante hizo el trabajo en clase (trabajo es True), se ejecuta este bloque de código:\n",
    "        nota += 1  # Se aumenta la nota del estudiante en 1 punto.\n",
    "        print(\"Ha hecho el trabajo\")  # Muestra un mensaje indicando que el estudiante hizo el trabajo.\n",
    "        print(\"Le subo la nota\")  # Muestra un mensaje indicando que se aumentó la nota.\n",
    "        print(\"Nota final:\", nota)  # Muestra la nueva nota final después de aumentarla.\n",
    "    else:\n",
    "        # Si el estudiante no hizo el trabajo en clase (trabajo es False), se ejecuta este bloque de código:\n",
    "        print(\"Vaguete, no le subo la nota\")  # Muestra un mensaje indicando que el estudiante no hizo el trabajo y no se le aumenta la nota.\n",
    "\n",
    "    indice = indice + 1  # Incrementa el índice en 1 para pasar al siguiente estudiante en las listas.\n",
    "\n",
    "# El bucle \"for\" se repite para cada estudiante en la lista \"notas_clase\" hasta que no queden más estudiantes por evaluar.\n"
   ]
  },
  {
   "cell_type": "markdown",
   "metadata": {},
   "source": [
    "### Función range\n",
    "Es muy común usar la función `range()` en las condiciones de un bucle. Esta función puede funcionar con un único argumento numérico y su output es un **iterable**, comprendido entre el 0 y el número introducido como argumento.\n",
    "\n",
    "Verás en [la documentación](https://www.w3schools.com/python/ref_func_range.asp) que `range()` tiene más posibilidades, combinando sus argumentos."
   ]
  },
  {
   "cell_type": "code",
   "execution_count": 26,
   "metadata": {},
   "outputs": [
    {
     "name": "stdout",
     "output_type": "stream",
     "text": [
      "[1, 2, 3, 4, 5, 6, 7, 8, 9, 10, 11, 12, 13, 14, 15, 16, 17, 18, 19, 20, 21, 22, 23]\n",
      "10\n",
      "9\n",
      "8\n",
      "7\n",
      "6\n",
      "5\n",
      "4\n",
      "3\n",
      "2\n",
      "1\n"
     ]
    }
   ],
   "source": [
    "# para las 12 primeras horas del día pintar \"Es de día\" y el resto de horas \"Es de noche\"\n",
    "lista_horas = list(range(1,24,1))\n",
    "print(lista_horas)\n",
    "\n",
    "for i in range(10,0,-1):\n",
    "    if i >0:\n",
    "        print(i)\n",
    "    else:\n",
    "        print(\"Despegando\")"
   ]
  },
  {
   "cell_type": "code",
   "execution_count": 10,
   "metadata": {},
   "outputs": [
    {
     "name": "stdout",
     "output_type": "stream",
     "text": [
      "1\n",
      "2\n",
      "3\n",
      "4\n",
      "5\n",
      "6\n",
      "7\n",
      "8\n",
      "9\n",
      "10\n",
      "2\n",
      "4\n",
      "6\n",
      "8\n",
      "10\n",
      "12\n",
      "14\n",
      "16\n",
      "18\n",
      "20\n",
      "22\n",
      "24\n",
      "26\n",
      "28\n",
      "30\n"
     ]
    }
   ],
   "source": [
    "for numeros in range(1,11,1):\n",
    "    print(numeros)\n",
    "\n",
    "for numeros_pares in range(2,31,2):\n",
    "    print(numeros_pares)"
   ]
  },
  {
   "cell_type": "markdown",
   "metadata": {},
   "source": [
    "En ocasiones nos interesa iterar sobre la posición que tiene cada elemento dentro de un iterable. Para ello podemos combinar `range` con `len` dentro de las condiciones del bucle"
   ]
  },
  {
   "cell_type": "code",
   "execution_count": 15,
   "metadata": {},
   "outputs": [
    {
     "name": "stdout",
     "output_type": "stream",
     "text": [
      "El índice 0 corresponde a la fruta: manzana\n",
      "El índice 1 corresponde a la fruta: banana\n",
      "El índice 2 corresponde a la fruta: cereza\n",
      "El índice 3 corresponde a la fruta: dátiles\n"
     ]
    }
   ],
   "source": [
    "# Definir una lista de frutas\n",
    "frutas = [\"manzana\", \"banana\", \"cereza\", \"dátiles\"]\n",
    "\n",
    "# Utilizar la función range con len(frutas) para generar índices\n",
    "# Luego, recorrer la lista de frutas usando estos índices\n",
    "for fruta in range(len(frutas)):\n",
    "    # Imprimir el índice y la fruta correspondiente\n",
    "    print(\"El índice\", fruta, \"corresponde a la fruta:\", frutas[fruta])\n"
   ]
  },
  {
   "cell_type": "code",
   "execution_count": 9,
   "metadata": {},
   "outputs": [
    {
     "name": "stdout",
     "output_type": "stream",
     "text": [
      "El índice 0 corresponde a el nombre: Ana\n",
      "El índice 1 corresponde a el nombre: Juan\n",
      "El índice 2 corresponde a el nombre: Luis\n",
      "El índice 3 corresponde a el nombre: María\n",
      "El índice 4 corresponde a el nombre: Elena\n"
     ]
    }
   ],
   "source": [
    "nombres = [\"Ana\", \"Juan\", \"Luis\", \"María\", \"Elena\"]\n",
    "for nombre in range(len(nombres)):\n",
    "    print(\"El índice\", nombre, \"corresponde a el nombre:\", nombres[nombre])\n"
   ]
  },
  {
   "cell_type": "markdown",
   "metadata": {},
   "source": [
    "### Función enumerate\n",
    "¿Y si dentro del bucle necesitamos tanto el elemento del iterable, como su índice? En [la documentación](https://www.w3schools.com/python/ref_func_enumerate.asp) verás que puedes elegir desde qué elemento de la lista quieres empezar."
   ]
  },
  {
   "cell_type": "code",
   "execution_count": 14,
   "metadata": {},
   "outputs": [
    {
     "name": "stdout",
     "output_type": "stream",
     "text": [
      "El índice 0 corresponde a la fruta: manzana\n",
      "El índice 1 corresponde a la fruta: banana\n",
      "El índice 2 corresponde a la fruta: cereza\n",
      "El índice 3 corresponde a la fruta: dátiles\n"
     ]
    }
   ],
   "source": [
    "# Definir una lista de frutas\n",
    "frutas = [\"manzana\", \"banana\", \"cereza\", \"dátiles\"]\n",
    "\n",
    "# Utilizar el bucle for junto con enumerate para recorrer la lista\n",
    "# Enumerate proporciona tanto el índice como el elemento en cada iteración\n",
    "for indice, fruta in enumerate(frutas):\n",
    "    # Imprimir el índice y la fruta correspondiente\n",
    "    print(\"El índice\", indice, \"corresponde a la fruta:\", fruta)\n"
   ]
  },
  {
   "cell_type": "code",
   "execution_count": null,
   "metadata": {},
   "outputs": [],
   "source": []
  },
  {
   "cell_type": "code",
   "execution_count": null,
   "metadata": {},
   "outputs": [],
   "source": []
  },
  {
   "cell_type": "markdown",
   "metadata": {},
   "source": [
    "<table align=\"left\">\n",
    " <tr>\n",
    "     <td style=\"text-align:left\">\n",
    "         <h3>ERRORES en los rangos</h3>\n",
    "         \n",
    " </td></tr>\n",
    "</table>"
   ]
  },
  {
   "cell_type": "markdown",
   "metadata": {},
   "source": [
    "Mucho cuidado al escribir las condiciones del bucle. Lo primero, porque podríamos tener condiciones infinitas de ejecución que ni nosotros, ni nuestro ordenador lo deseamos. Y lo segundo porque si intentamos acceder a un índice de nuestro iterable que no existe, saltará un error. Veamos ejemplo"
   ]
  },
  {
   "cell_type": "code",
   "execution_count": null,
   "metadata": {},
   "outputs": [],
   "source": []
  },
  {
   "cell_type": "markdown",
   "metadata": {},
   "source": [
    "Es por ello que se recomienda dejar el código lo más \"en automático\" posible. Poner en el range la longitud del iterable no es una buena práctica, ¿Y si mañana el iterable tiene menos nombres? saltará error. ¿Y si tiene más? No los tendremos en cuenta en el for. Por ello es mejor usar `len`."
   ]
  },
  {
   "attachments": {
    "ejercicio.png": {
     "image/png": "[encoded data removed]"
    }
   },
   "cell_type": "markdown",
   "metadata": {},
   "source": [
    "![ejercicio.png](attachment:ejercicio.png)<table align=\"left\">\n",
    " <tr>\n",
    "     <td style=\"text-align:left\">\n",
    "         <h3>Ejercicio bucle for</h3>\n",
    "\n",
    "Recorre la siguiente lista con un for, imprime únicamente los elementos múltiplos de 3\n",
    "         \n",
    " </td></tr>\n",
    "</table>"
   ]
  },
  {
   "cell_type": "code",
   "execution_count": 17,
   "metadata": {},
   "outputs": [
    {
     "name": "stdout",
     "output_type": "stream",
     "text": [
      "3\n",
      "6\n",
      "6\n",
      "3\n",
      "9\n"
     ]
    }
   ],
   "source": [
    "# Definir la lista de números\n",
    "nums_bucle = [5, 7, 3, 4, 2, 4, 7, 6, 10, 1, 6, 3, 5, 9]\n",
    "\n",
    "# Recorrer la lista con un bucle for\n",
    "for number in nums_bucle:\n",
    "    # Comprobar si el número es un múltiplo de 3\n",
    "    if number % 3 == 0:\n",
    "        # Si es un múltiplo de 3, imprimirlo\n",
    "        print(number)\n"
   ]
  },
  {
   "cell_type": "markdown",
   "metadata": {},
   "source": [
    "Escribe un programa en Python que imprima los números del 1 al 10 utilizando un bucle for."
   ]
  },
  {
   "cell_type": "code",
   "execution_count": 10,
   "metadata": {},
   "outputs": [
    {
     "name": "stdout",
     "output_type": "stream",
     "text": [
      "1\n",
      "2\n",
      "3\n",
      "4\n",
      "5\n",
      "6\n",
      "7\n",
      "8\n",
      "9\n",
      "10\n"
     ]
    }
   ],
   "source": [
    "lista_numeros = list(range(1,11,1))\n",
    "for i in lista_numeros:\n",
    "    print(i)"
   ]
  },
  {
   "cell_type": "markdown",
   "metadata": {},
   "source": [
    "Escribe un programa en Python que recorra la lista de nombres [\"Ana\", \"Juan\", \"Pedro\", \"Lucía\", \"María\"] \n",
    "utilizando un bucle for y que imprima un saludo personalizado para cada nombre en la lista. El saludo debe ser en el formato: \"Hola, [nombre]!\"."
   ]
  },
  {
   "cell_type": "code",
   "execution_count": 11,
   "metadata": {},
   "outputs": [
    {
     "name": "stdout",
     "output_type": "stream",
     "text": [
      "Hola Ana Espero que tengas un buen día\n",
      "Qué tal Juan ?\n",
      "Pedro eres un máquina!\n",
      "Lucía Cómo lo llevas?\n",
      "María hola!!!\n"
     ]
    }
   ],
   "source": [
    "lista_nombres = [\"Ana\",\"Juan\",\"Pedro\",\"Lucía\",\"María\"]\n",
    "for nombre in lista_nombres:\n",
    "    if nombre == \"Ana\":\n",
    "        print(\"Hola\",nombre, \"Espero que tengas un buen día\")\n",
    "    elif nombre == \"Juan\":\n",
    "        print(\"Qué tal\", nombre, \"?\")\n",
    "    elif nombre == \"Pedro\":\n",
    "        print(nombre, \"eres un máquina!\")\n",
    "    elif nombre == \"Lucía\":\n",
    "        print(nombre, \"Cómo lo llevas?\")\n",
    "    else:\n",
    "        print(nombre,\"hola!!!\")"
   ]
  },
  {
   "cell_type": "markdown",
   "metadata": {},
   "source": [
    "Escribe un programa en Python que solicite al usuario ingresar cinco nombres, uno por uno. \n",
    "Luego, utiliza un bucle for para imprimir un saludo personalizado para cada nombre ingresado en el formato: \"Hola, [nombre]!\"."
   ]
  },
  {
   "cell_type": "code",
   "execution_count": 13,
   "metadata": {},
   "outputs": [
    {
     "name": "stdout",
     "output_type": "stream",
     "text": [
      "Hola Juan, me gusta mucho tu nombre\n",
      "Hola Carlos, me gusta mucho tu nombre\n",
      "Hola Telmo, me gusta mucho tu nombre\n",
      "Hola Lean, me gusta mucho tu nombre\n",
      "Hola Iván, me gusta mucho tu nombre\n"
     ]
    }
   ],
   "source": [
    "lista_nombres = []\n",
    "\n",
    "for i in range(5):\n",
    "    nombre = input(f\"Escribe el nombre {i + 1}: \")\n",
    "    lista_nombres.append(nombre)\n",
    "\n",
    "for nombre in lista_nombres:\n",
    "    print(f\"Hola {nombre}, me gusta mucho tu nombre\")\n"
   ]
  },
  {
   "cell_type": "markdown",
   "metadata": {},
   "source": [
    "Escribe un programa en Python que solicite al usuario ingresar 10 números.  \n",
    " \n",
    "Luego, utiliza un bucle for para calcular la suma de esos números y mostrar el resultado al final."
   ]
  },
  {
   "cell_type": "code",
   "execution_count": 20,
   "metadata": {},
   "outputs": [
    {
     "name": "stdout",
     "output_type": "stream",
     "text": [
      "Por favor, añade un número valido entre 0 y 1000. No se aceptan negativos, decimales ni números superiores a 1000\n",
      "la lista de los números, suma un total de {45}\n"
     ]
    }
   ],
   "source": [
    "lista_numeros = []\n",
    "for i in range(10):\n",
    "    numero = int(input(f\" Por favor, ingresa el número {i+1}:\"))\n",
    "    if 0 <= numero <= 1000:\n",
    "        lista_numeros.append(numero)\n",
    "    else:\n",
    "        print(\"Por favor, añade un número valido entre 0 y 1000. No se aceptan negativos, decimales ni números superiores a 1000\")\n",
    "\n",
    "\n",
    "suma_numeros = sum(lista_numeros)\n",
    "print(f\"la lista de los números, suma un total de\", {suma_numeros})\n",
    "\n"
   ]
  },
  {
   "cell_type": "code",
   "execution_count": 21,
   "metadata": {},
   "outputs": [
    {
     "name": "stdout",
     "output_type": "stream",
     "text": [
      "Por favor, añade un número válido entre 0 y 1000. No se aceptan negativos, decimales ni números superiores a 1000\n",
      "Por favor, añade un número válido entre 0 y 1000. No se aceptan negativos, decimales ni números superiores a 1000\n",
      "La lista de los números suma un total de 10\n"
     ]
    }
   ],
   "source": [
    "# Puedo hacer otra versión que es capaz de tratar mejor la lógica si se pone un número que  estar fuera del rango permitido \n",
    "# y reinicierá ese paso hasta que sea corrrecto, con un bucle while\n",
    "\n",
    "lista_numeros = []\n",
    "\n",
    "for i in range(10):\n",
    "    while True:  # Bucle infinito\n",
    "        numero = int(input(f\"Por favor, ingresa el número {i + 1}: \"))\n",
    "        if 0 <= numero <= 1000:\n",
    "            lista_numeros.append(numero)\n",
    "            break  # Salir del bucle while si el número es válido\n",
    "        else:\n",
    "            print(\"Por favor, añade un número válido entre 0 y 1000. No se aceptan negativos, decimales ni números superiores a 1000\")\n",
    "\n",
    "suma_numeros = sum(lista_numeros)\n",
    "print(f\"La lista de los números suma un total de {suma_numeros}\")\n"
   ]
  },
  {
   "cell_type": "markdown",
   "metadata": {},
   "source": [
    "Enunciado del Ejercicio:  \n",
    "\n",
    "Escribe una función llamada numeros_pares que reciba una lista de números enteros y devuelva una nueva lista que contenga solo los números pares de la lista original.  \n",
    "\n",
    "Detalles:  \n",
    "\n",
    "La función debe iterar sobre cada número en la lista original.  \n",
    "Debe verificar si cada número es par.  \n",
    "Si el número es par, debe añadirse a la nueva lista.  \n",
    "La función debe retornar la nueva lista de números pares.  "
   ]
  },
  {
   "cell_type": "code",
   "execution_count": 4,
   "metadata": {},
   "outputs": [],
   "source": [
    "def numeros_pares(lista_numeros):\n",
    "    lista_pares = []\n",
    "    for numero in lista_numeros:\n",
    "        if numero % 2 == 0:\n",
    "            lista_pares.append(numero)\n",
    "    return(lista_pares)\n",
    "\n"
   ]
  },
  {
   "cell_type": "code",
   "execution_count": 5,
   "metadata": {},
   "outputs": [],
   "source": [
    "numeros_uno = [2,4,6,8,10,12,14,16]\n",
    "numeros_dos = [3,5,6,7,9,19,221,222,500,501]"
   ]
  },
  {
   "cell_type": "code",
   "execution_count": 6,
   "metadata": {},
   "outputs": [
    {
     "data": {
      "text/plain": [
       "[2, 4, 6, 8, 10, 12, 14, 16]"
      ]
     },
     "execution_count": 6,
     "metadata": {},
     "output_type": "execute_result"
    }
   ],
   "source": [
    "numeros_pares(numeros_uno)"
   ]
  },
  {
   "cell_type": "code",
   "execution_count": 7,
   "metadata": {},
   "outputs": [
    {
     "data": {
      "text/plain": [
       "[6, 222, 500]"
      ]
     },
     "execution_count": 7,
     "metadata": {},
     "output_type": "execute_result"
    }
   ],
   "source": [
    "numeros_pares(numeros_dos)"
   ]
  },
  {
   "cell_type": "markdown",
   "metadata": {},
   "source": [
    "Enunciado del Ejercicio:  \n",
    "\n",
    "Escribe una función llamada suma_numeros que reciba una lista de listas de números enteros y devuelva una nueva lista con la suma de los números de cada sublista.  \n",
    "\n",
    "Detalles:  \n",
    "\n",
    "La función debe iterar sobre cada sublista en la lista principal.  \n",
    "Para cada sublista, debe calcular la suma de sus elementos.  \n",
    "La función debe retornar una nueva lista que contenga las sumas de cada sublista.  "
   ]
  },
  {
   "cell_type": "code",
   "execution_count": 8,
   "metadata": {},
   "outputs": [],
   "source": [
    "def suma_numeros(listas):\n",
    "    lista_sumas= []\n",
    "    for lista in listas:\n",
    "        suma = sum(lista)\n",
    "        lista_sumas.append(suma)\n",
    "    return(lista_sumas)\n"
   ]
  },
  {
   "cell_type": "code",
   "execution_count": 11,
   "metadata": {},
   "outputs": [],
   "source": [
    "listas_uno = [\n",
    "    [1, 2, 3],\n",
    "    [4, 5, 6],\n",
    "    [7, 8, 9]\n",
    "]\n",
    "\n",
    "listas_dos = [\n",
    "    [56,88,11],\n",
    "    [0,9,0],\n",
    "    [25,25,25]\n",
    "]\n"
   ]
  },
  {
   "cell_type": "code",
   "execution_count": 14,
   "metadata": {},
   "outputs": [
    {
     "name": "stdout",
     "output_type": "stream",
     "text": [
      "La suma de cada sublista del ejemplo 1 es:[6, 15, 24]\n",
      "La suma de cada sublista del ejemplo 2 es:[155, 9, 75]\n"
     ]
    }
   ],
   "source": [
    "ejemplo_uno = suma_numeros(listas_uno)\n",
    "ejemplo_dos = suma_numeros(listas_dos)\n",
    "\n",
    "print(f\"La suma de cada sublista del ejemplo 1 es:{ejemplo_uno}\")\n",
    "print(f\"La suma de cada sublista del ejemplo 2 es:{ejemplo_dos}\")"
   ]
  },
  {
   "cell_type": "markdown",
   "metadata": {},
   "source": []
  }
 ],
 "metadata": {
  "kernelspec": {
   "display_name": "Python 3 (ipykernel)",
   "language": "python",
   "name": "python3"
  },
  "language_info": {
   "codemirror_mode": {
    "name": "ipython",
    "version": 3
   },
   "file_extension": ".py",
   "mimetype": "text/x-python",
   "name": "python",
   "nbconvert_exporter": "python",
   "pygments_lexer": "ipython3",
   "version": "3.11.5"
  }
 },
 "nbformat": 4,
 "nbformat_minor": 4
}
