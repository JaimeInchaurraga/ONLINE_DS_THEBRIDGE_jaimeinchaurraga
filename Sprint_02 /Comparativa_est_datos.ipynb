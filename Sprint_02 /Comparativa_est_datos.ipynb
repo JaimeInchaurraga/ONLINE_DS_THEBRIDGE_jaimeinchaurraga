{
 "cells": [
  {
   "cell_type": "markdown",
   "id": "44a29a74-066f-40cf-a72d-16bdc5afd037",
   "metadata": {},
   "source": [
    "## TABLA COMPARATIVA: Listas, Tuplas, Diccionarios y Sets"
   ]
  },
  {
   "cell_type": "markdown",
   "id": "0c1bc5ef-5c25-4890-921c-be137b958d13",
   "metadata": {},
   "source": [
    "| Estructura de Datos | Mutabilidad | Sintaxis | Orden | Elementos Duplicados | Métodos Principales | Funciones Incorporadas | Características Clave |\n",
    "|---------------------|-------------|----------|-------|-----------------------|----------------------|-------------------------|------------------------|\n",
    "| Lista (List)       | Mutable     | `[ ]`    | Sí    | Sí                    | `append()`, `extend()`, `insert()`, `remove()`, `pop()`, `index()`, `count()`, `sort()`, `reverse()` | `len()`, `min()`, `max()` | - Puedes cambiar, agregar o eliminar elementos después de crear la lista. - Pueden contener elementos de diferentes tipos. |\n",
    "| Tupla (Tuple)      | Inmutable   | `( )`    | Sí    | Sí                    | `index()`, `count()` | `len()`, `min()`, `max()` | - No puedes cambiar elementos una vez creada la tupla. - Generalmente se utilizan para datos inmutables. |\n",
    "| Diccionario (Dict) | Mutable     | `{ }`    | No    | No                    | `get()`, `items()`, `keys()`, `values()`, `update()`, `pop()`, `popitem()`, `clear()` | `len()`, `in`, `keys()`, `values()` | - Almacenan pares clave-valor. - Las claves son únicas. - Puedes modificar, agregar o eliminar pares clave-valor. |\n",
    "| Conjunto (Set)     | Mutable     | `{ }`    | No    | No (Elementos únicos) | `add()`, `remove()`, `discard()`, `clear()`, `union()`, `intersection()`, `difference()`, `symmetric_difference()` | `len()`, `in` | - Contienen elementos únicos. - Se utilizan para operaciones de conjuntos. |\n"
   ]
  }
 ],
 "metadata": {
  "kernelspec": {
   "display_name": "Python 3 (ipykernel)",
   "language": "python",
   "name": "python3"
  },
  "language_info": {
   "codemirror_mode": {
    "name": "ipython",
    "version": 3
   },
   "file_extension": ".py",
   "mimetype": "text/x-python",
   "name": "python",
   "nbconvert_exporter": "python",
   "pygments_lexer": "ipython3",
   "version": "3.11.5"
  }
 },
 "nbformat": 4,
 "nbformat_minor": 5
}
