{
 "cells": [
  {
   "cell_type": "code",
   "execution_count": 4,
   "metadata": {},
   "outputs": [],
   "source": [
    "import pandas as pd\n",
    "import numpy as np\n",
    "import math as m"
   ]
  },
  {
   "cell_type": "markdown",
   "metadata": {},
   "source": [
    "# Ejercicio: Crear una función para calcular el área de un círculo\n",
    "\n",
    "Escribe una función en Python llamada `area_circulo` que reciba como parámetro el radio de un círculo y devuelva el área del círculo. Recuerda que el área de un círculo se calcula con la fórmula:\n",
    "\n",
    "\\[ \\text{Área} = \\pi \\times \\text{radio}^2 \\]\n",
    "\n",
    "Para este ejercicio, puedes usar el valor de \\(\\pi\\) proporcionado por la biblioteca `math` de Python.\n",
    "\n",
    "**Instrucciones:**\n",
    "\n",
    "1. Define la función `area_circulo` que tome un argumento (el radio del círculo).\n",
    "2. Dentro de la función, utiliza la fórmula mencionada para calcular el área.\n",
    "3. Asegúrate de importar la biblioteca `math` para usar el valor de \\(\\pi\\).\n",
    "4. Devuelve el resultado calculado.\n",
    "5. Prueba la función con diferentes valores de radio para asegurarte de que funciona correctamente.\n"
   ]
  },
  {
   "cell_type": "code",
   "execution_count": 5,
   "metadata": {},
   "outputs": [],
   "source": [
    "def area_circulo(radio):\n",
    "    area = (radio ** 2) * m.pi\n",
    "    return area"
   ]
  },
  {
   "cell_type": "code",
   "execution_count": 7,
   "metadata": {},
   "outputs": [
    {
     "name": "stdout",
     "output_type": "stream",
     "text": [
      "El area del círculo es de: 12.57\n"
     ]
    }
   ],
   "source": [
    "radio = 2\n",
    "print(f\"El area del círculo es de: {round(area_circulo(radio),2)}\")"
   ]
  },
  {
   "cell_type": "markdown",
   "metadata": {},
   "source": [
    "# Ejercicio: Crear una función para convertir grados Celsius a Fahrenheit\n",
    "\n",
    "Escribe una función en Python llamada `celsius_a_fahrenheit` que reciba como parámetro una temperatura en grados Celsius y la convierta a grados Fahrenheit. La fórmula para convertir grados Celsius a Fahrenheit es:\n",
    "\n",
    "\\[ \\text{Fahrenheit} = \\text{Celsius} \\times \\frac{9}{5} + 32 \\]\n",
    "\n",
    "**Instrucciones:**\n",
    "\n",
    "1. Define la función `celsius_a_fahrenheit` que tome un argumento (la temperatura en grados Celsius).\n",
    "2. Dentro de la función, utiliza la fórmula mencionada para convertir la temperatura a grados Fahrenheit.\n",
    "3. Devuelve el resultado calculado.\n",
    "4. Prueba la función con diferentes valores de temperatura para asegurarte de que funciona correctamente.\n"
   ]
  },
  {
   "cell_type": "code",
   "execution_count": 9,
   "metadata": {},
   "outputs": [],
   "source": [
    "def c_to_f(c):\n",
    "    conv = c * (9/5) + 32\n",
    "    return conv"
   ]
  },
  {
   "cell_type": "code",
   "execution_count": 10,
   "metadata": {},
   "outputs": [
    {
     "name": "stdout",
     "output_type": "stream",
     "text": [
      "La temperatura en fahrenheit es de 95.0\n"
     ]
    }
   ],
   "source": [
    "c = 35\n",
    "print(f\"La temperatura en fahrenheit es de {c_to_f(c)}\")"
   ]
  },
  {
   "cell_type": "markdown",
   "metadata": {},
   "source": [
    "# Ejercicio: Crear una función para calcular la suma de los números primos en un rango\n",
    "\n",
    "Escribe una función en Python llamada `suma_primos` que reciba dos parámetros, `inicio` y `fin`, y devuelva la suma de todos los números primos en el rango desde `inicio` hasta `fin` (inclusive). \n",
    "\n",
    "Un número primo es aquel que solo es divisible por 1 y por sí mismo.\n",
    "\n",
    "**Instrucciones:**\n",
    "\n",
    "1. Define la función `suma_primos` que tome dos argumentos (`inicio` y `fin`).\n",
    "2. Dentro de la función, escribe una subfunción `es_primo` que determine si un número es primo.\n",
    "3. Utiliza la subfunción `es_primo` para encontrar todos los números primos en el rango especificado.\n",
    "4. Suma los números primos encontrados y devuelve el resultado.\n",
    "5. Prueba la función con diferentes valores de `inicio` y `fin` para asegurarte de que funciona correctamente.\n",
    "\n",
    "**Ejemplo:**\n",
    "\n",
    "```python\n",
    "print(suma_primos(10, 20))  # Debería devolver 60, ya que los números primos en este rango son 11, 13, 17, 19\n"
   ]
  },
  {
   "cell_type": "code",
   "execution_count": 11,
   "metadata": {},
   "outputs": [
    {
     "name": "stdout",
     "output_type": "stream",
     "text": [
      "60\n",
      "17\n",
      "52\n"
     ]
    }
   ],
   "source": [
    "def suma_primos(inicio, fin):\n",
    "    def es_primo(n):\n",
    "        if n <= 1:\n",
    "            return False\n",
    "        for i in range(2, int(n**0.5) + 1):\n",
    "            if n % i == 0:\n",
    "                return False\n",
    "        return True\n",
    "\n",
    "    suma = 0\n",
    "    for num in range(inicio, fin + 1):\n",
    "        if es_primo(num):\n",
    "            suma += num\n",
    "    return suma\n",
    "\n",
    "# Prueba de la función con diferentes valores de inicio y fin\n",
    "print(suma_primos(10, 20))  # Debería devolver 60, ya que los números primos en este rango son 11, 13, 17, 19\n",
    "print(suma_primos(1, 10))   # Debería devolver 17, ya que los números primos en este rango son 2, 3, 5, 7\n",
    "print(suma_primos(20, 30))  # Debería devolver 52, ya que los números primos en este rango son 23, 29\n"
   ]
  },
  {
   "cell_type": "markdown",
   "metadata": {},
   "source": [
    "# Problema: Calcular el factorial de un número\n",
    "\n",
    "Escribe un programa en Python que solicite al usuario ingresar un número entero positivo y luego calcule e imprima el factorial de ese número.\n",
    "\n",
    "El factorial de un número \\( n \\) se define como el producto de todos los enteros positivos menores o iguales a \\( n \\). Se denota como \\( n! \\).\n",
    "\n",
    "**Instrucciones:**\n",
    "\n",
    "1. Solicita al usuario que ingrese un número entero positivo \\( n \\).\n",
    "2. Implementa un bucle para calcular el factorial del número \\( n \\).\n",
    "3. Imprime el resultado del factorial.\n"
   ]
  },
  {
   "cell_type": "code",
   "execution_count": 12,
   "metadata": {},
   "outputs": [
    {
     "name": "stdout",
     "output_type": "stream",
     "text": [
      "El factorial de 10 es: 3628800\n"
     ]
    }
   ],
   "source": [
    "q1 = input(\"Por favor, ingresa un número entero positivo: \")\n",
    "\n",
    "# Validar si la entrada es un número entero positivo\n",
    "try:\n",
    "    q1 = int(q1)\n",
    "    if q1 < 1:\n",
    "        print(\"El número debe ser mayor que cero.\")\n",
    "    else:\n",
    "        # Calcular el factorial usando un bucle\n",
    "        resultado = 1\n",
    "        for i in range(1, q1 + 1):\n",
    "            resultado *= i\n",
    "\n",
    "        print(f\"El factorial de {q1} es: {resultado}\")\n",
    "\n",
    "except ValueError:\n",
    "    print(\"El valor ingresado no es un número entero válido. Por favor, inténtalo de nuevo.\")\n"
   ]
  }
 ],
 "metadata": {
  "kernelspec": {
   "display_name": "Python 3",
   "language": "python",
   "name": "python3"
  },
  "language_info": {
   "codemirror_mode": {
    "name": "ipython",
    "version": 3
   },
   "file_extension": ".py",
   "mimetype": "text/x-python",
   "name": "python",
   "nbconvert_exporter": "python",
   "pygments_lexer": "ipython3",
   "version": "3.11.5"
  }
 },
 "nbformat": 4,
 "nbformat_minor": 2
}
