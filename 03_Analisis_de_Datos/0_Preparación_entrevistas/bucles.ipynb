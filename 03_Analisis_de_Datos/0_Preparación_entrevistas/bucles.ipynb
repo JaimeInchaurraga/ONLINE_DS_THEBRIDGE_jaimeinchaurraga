{
 "cells": [
  {
   "cell_type": "code",
   "execution_count": 1,
   "metadata": {},
   "outputs": [],
   "source": [
    "import pandas as pd\n",
    "import numpy as np\n",
    "import math as m"
   ]
  },
  {
   "cell_type": "markdown",
   "metadata": {},
   "source": [
    "# Ejercicio: Imprimir los números pares en un rango\n",
    "\n",
    "Escribe un programa en Python que solicite al usuario ingresar dos números enteros positivos, `inicio` y `fin`, y luego imprima todos los números pares en el rango desde `inicio` hasta `fin` (inclusive).\n",
    "\n",
    "**Instrucciones:**\n",
    "\n",
    "1. Solicita al usuario que ingrese dos números enteros positivos: `inicio` y `fin`.\n",
    "2. Usa un bucle `for` para iterar a través de todos los números en el rango desde `inicio` hasta `fin`.\n",
    "3. Imprime cada número par que se encuentre dentro del rango.\n",
    "\n",
    "\n",
    "\n"
   ]
  },
  {
   "cell_type": "code",
   "execution_count": 8,
   "metadata": {},
   "outputs": [
    {
     "name": "stdout",
     "output_type": "stream",
     "text": [
      "Los números pares que hay entre 1 y 12 son los siguientes:\n",
      "2\n",
      "4\n",
      "6\n",
      "8\n",
      "10\n",
      "12\n"
     ]
    }
   ],
   "source": [
    "q_1 = int(input(\"Por favor ingresa el primer número entero positivo: \"))\n",
    "if q_1 < 0:\n",
    "    print(\"El número tiene que ser positivo\")\n",
    "else:\n",
    "    q_2 = int(input(\"Ingresa el segundo número entero positivo: \"))\n",
    "    if q_2 < 0:\n",
    "        print(\"El número tiene que ser positivo\")\n",
    "    else:\n",
    "        print(f\"Los números pares que hay entre {q_1} y {q_2} son los siguientes:\")\n",
    "        for i in range(q_1, q_2 + 1):\n",
    "            if i % 2 == 0:\n",
    "                print(i)\n",
    "\n",
    "    "
   ]
  },
  {
   "cell_type": "code",
   "execution_count": 9,
   "metadata": {},
   "outputs": [
    {
     "name": "stdout",
     "output_type": "stream",
     "text": [
      "Los números pares que hay entre 1 y 12 son los siguientes:\n",
      "2\n",
      "4\n",
      "6\n",
      "8\n",
      "10\n",
      "12\n"
     ]
    }
   ],
   "source": [
    "# versión más completa GPT\n",
    "\n",
    "while True:\n",
    "    try:\n",
    "        q_1 = int(input(\"Por favor ingresa el primer número entero positivo: \"))\n",
    "        if q_1 < 0:\n",
    "            print(\"El número tiene que ser positivo. Inténtalo de nuevo.\")\n",
    "            continue\n",
    "        break\n",
    "    except ValueError:\n",
    "        print(\"El valor ingresado no es un número entero. Inténtalo de nuevo.\")\n",
    "\n",
    "while True:\n",
    "    try:\n",
    "        q_2 = int(input(\"Ingresa el segundo número entero positivo: \"))\n",
    "        if q_2 < 0:\n",
    "            print(\"El número tiene que ser positivo. Inténtalo de nuevo.\")\n",
    "            continue\n",
    "        break\n",
    "    except ValueError:\n",
    "        print(\"El valor ingresado no es un número entero. Inténtalo de nuevo.\")\n",
    "\n",
    "print(f\"Los números pares que hay entre {q_1} y {q_2} son los siguientes:\")\n",
    "for i in range(q_1, q_2 + 1):\n",
    "    if i % 2 == 0:\n",
    "        print(i)\n"
   ]
  },
  {
   "cell_type": "code",
   "execution_count": null,
   "metadata": {},
   "outputs": [],
   "source": []
  },
  {
   "cell_type": "code",
   "execution_count": null,
   "metadata": {},
   "outputs": [],
   "source": []
  },
  {
   "cell_type": "code",
   "execution_count": null,
   "metadata": {},
   "outputs": [],
   "source": []
  }
 ],
 "metadata": {
  "kernelspec": {
   "display_name": "Python 3",
   "language": "python",
   "name": "python3"
  },
  "language_info": {
   "codemirror_mode": {
    "name": "ipython",
    "version": 3
   },
   "file_extension": ".py",
   "mimetype": "text/x-python",
   "name": "python",
   "nbconvert_exporter": "python",
   "pygments_lexer": "ipython3",
   "version": "3.11.5"
  }
 },
 "nbformat": 4,
 "nbformat_minor": 2
}
