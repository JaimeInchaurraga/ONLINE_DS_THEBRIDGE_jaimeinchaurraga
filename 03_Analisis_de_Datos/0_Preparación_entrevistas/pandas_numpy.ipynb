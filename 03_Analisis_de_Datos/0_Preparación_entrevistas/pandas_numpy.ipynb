{
 "cells": [
  {
   "cell_type": "code",
   "execution_count": 1,
   "metadata": {},
   "outputs": [],
   "source": [
    "import numpy as np\n",
    "import pandas as pd\n"
   ]
  },
  {
   "cell_type": "code",
   "execution_count": 1,
   "metadata": {},
   "outputs": [
    {
     "name": "stdout",
     "output_type": "stream",
     "text": [
      "Array 1: [1 2 3 4 5]\n",
      "Array 2: [5 6 7 8 9]\n",
      "Reshaped Array: [[1]\n",
      " [2]\n",
      " [3]\n",
      " [4]\n",
      " [5]]\n",
      "Concatenated Array: [1 2 3 4 5 5 6 7 8 9]\n",
      "Appended Array: [ 1  2  3  4  5 10 11 12]\n",
      "Inserted Array: [  1   2  99 100   3   4   5]\n",
      "Deleted Array: [1 3 5]\n",
      "Mean Value: 3.0\n",
      "Standard Deviation: 1.4142135623730951\n",
      "Coefficient of Variation: 47.14045207910317\n",
      "Sum Array: [ 6  8 10 12 14]\n"
     ]
    }
   ],
   "source": [
    "# NUMPY\n",
    "import numpy as np\n",
    "\n",
    "# Crear arrays de ejemplo\n",
    "array1 = np.array([1, 2, 3, 4, 5])\n",
    "array2 = np.array([5, 6, 7, 8, 9])\n",
    "\n",
    "# Cambiar la forma de un array\n",
    "reshaped_array = array1.reshape((5, 1))\n",
    "\n",
    "# Concatenar arrays\n",
    "concatenated_array = np.concatenate((array1, array2))\n",
    "\n",
    "# Añadir valores a un array\n",
    "appended_array = np.append(array1, [10, 11, 12])\n",
    "\n",
    "# Insertar valores en un array\n",
    "inserted_array = np.insert(array1, 2, [99, 100])\n",
    "\n",
    "# Eliminar elementos de un array\n",
    "deleted_array = np.delete(array1, [1, 3])\n",
    "\n",
    "# Calcular estadísticas básicas\n",
    "mean_value = np.mean(array1)\n",
    "std_value = np.std(array1)\n",
    "cv_value = (std_value / mean_value) * 100\n",
    "\n",
    "# Operar con arrays\n",
    "sum_array = np.add(array1, array2)\n",
    "\n",
    "# Mostrar resultados\n",
    "print(\"Array 1:\", array1)\n",
    "print(\"Array 2:\", array2)\n",
    "print(\"Reshaped Array:\", reshaped_array)\n",
    "print(\"Concatenated Array:\", concatenated_array)\n",
    "print(\"Appended Array:\", appended_array)\n",
    "print(\"Inserted Array:\", inserted_array)\n",
    "print(\"Deleted Array:\", deleted_array)\n",
    "print(\"Mean Value:\", mean_value)\n",
    "print(\"Standard Deviation:\", std_value)\n",
    "print(\"Coefficient of Variation:\", cv_value)\n",
    "print(\"Sum Array:\", sum_array)\n"
   ]
  },
  {
   "cell_type": "code",
   "execution_count": 2,
   "metadata": {},
   "outputs": [
    {
     "name": "stdout",
     "output_type": "stream",
     "text": [
      "     A    B  C\n",
      "0  1.0  5.0  a\n",
      "1  2.0  6.0  b\n",
      "2  3.0  NaN  c\n",
      "3  NaN  8.0  d\n",
      "4  5.0  9.0  e\n",
      "   Alpha    B     D\n",
      "0    1.0  5.0   6.0\n",
      "1    2.0  6.0   8.0\n",
      "3    0.0  8.0   0.0\n",
      "4    5.0  9.0  14.0\n",
      "2    3.0  0.0   0.0\n",
      "   Alpha    B     D\n",
      "2    3.0  NaN   NaN\n",
      "4    5.0  9.0  14.0\n",
      "         B     D\n",
      "Alpha           \n",
      "0.0    8.0   0.0\n",
      "1.0    5.0   6.0\n",
      "2.0    6.0   8.0\n",
      "3.0    0.0   0.0\n",
      "5.0    9.0  14.0\n"
     ]
    }
   ],
   "source": [
    "# PANDAS\n",
    "# Crear DataFrame de ejemplo\n",
    "data = {\n",
    "    'A': [1, 2, 3, np.nan, 5],\n",
    "    'B': [5, 6, np.nan, 8, 9],\n",
    "    'C': ['a', 'b', 'c', 'd', 'e']\n",
    "}\n",
    "df = pd.DataFrame(data)\n",
    "\n",
    "# Mostrar primeras filas\n",
    "print(df.head())\n",
    "\n",
    "# Añadir una nueva columna\n",
    "df['D'] = df['A'] + df['B']\n",
    "\n",
    "# Eliminar columna\n",
    "df.drop('C', axis=1, inplace=True)\n",
    "\n",
    "# Renombrar columna\n",
    "df.rename(columns={'A': 'Alpha'}, inplace=True)\n",
    "\n",
    "# Filtrar filas\n",
    "filtered_df = df[df['Alpha'] > 2]\n",
    "\n",
    "# Ordenar DataFrame\n",
    "df.sort_values(by='B', ascending=True, inplace=True)\n",
    "\n",
    "# Reemplazar valores nulos\n",
    "df.fillna(0, inplace=True)\n",
    "\n",
    "# Agrupar datos\n",
    "grouped_df = df.groupby('Alpha').agg({'B': 'mean', 'D': 'sum'})\n",
    "\n",
    "# Mostrar resultados\n",
    "print(df)\n",
    "print(filtered_df)\n",
    "print(grouped_df)\n"
   ]
  },
  {
   "cell_type": "code",
   "execution_count": null,
   "metadata": {},
   "outputs": [],
   "source": []
  },
  {
   "cell_type": "code",
   "execution_count": null,
   "metadata": {},
   "outputs": [],
   "source": []
  },
  {
   "cell_type": "code",
   "execution_count": null,
   "metadata": {},
   "outputs": [],
   "source": []
  }
 ],
 "metadata": {
  "kernelspec": {
   "display_name": "Python 3",
   "language": "python",
   "name": "python3"
  },
  "language_info": {
   "codemirror_mode": {
    "name": "ipython",
    "version": 3
   },
   "file_extension": ".py",
   "mimetype": "text/x-python",
   "name": "python",
   "nbconvert_exporter": "python",
   "pygments_lexer": "ipython3",
   "version": "3.11.5"
  }
 },
 "nbformat": 4,
 "nbformat_minor": 2
}
