{
 "cells": [
  {
   "cell_type": "markdown",
   "metadata": {},
   "source": [
    "## SQLITE: RIGHT JOIN/DROP COLUMN"
   ]
  },
  {
   "cell_type": "markdown",
   "metadata": {},
   "source": [
    "En versiones más antiguas de Sqlite, este no admite la ejecución de RIGHT JOIN ni de ALTER TABLE ... DROP COLUMN. En general, con las versiones actuales de Python esto no ocurre y no debería preocuparnos, tampoco debería preocuparnos en general porque en SQL con otros gestores sí que funcionan ambos y las sesiones son para aprender SQL no necesariamente SQL sobre SQLite. "
   ]
  },
  {
   "cell_type": "markdown",
   "metadata": {},
   "source": [
    "Aún así, aquí os ofrezco dos variantes para trata el problema por si os lo encontraráis cuando trabajéis en vuestro ordenador o en un ordenador con versiones antiguas"
   ]
  },
  {
   "cell_type": "markdown",
   "metadata": {},
   "source": [
    "### RIGHT JOIN\n",
    "\n",
    "La solución para el RIGHT JOIN es darle la vuelta y convertirlo en un LEFT. Así de sencillo, es decir la tabla que iría la derecha (detrás del JOIN) la ponéis a la izquierda (detrás del FROM) y en vez de un RIGHT JOIN hacéis un LEFT JOIN y solucionado. Sí por eso yo nunca uso el RIGHT."
   ]
  },
  {
   "cell_type": "markdown",
   "metadata": {},
   "source": [
    "### TIRAR COLUMNAS (ALTER TABLE... DROP)"
   ]
  },
  {
   "cell_type": "markdown",
   "metadata": {},
   "source": [
    "La solución para la eliminación de columnas no es tan directa como la anterior y puede ser difícil de implementar si tenemos una tabla con grandes cantidades de datos, porque implica copiar información a otra sin las columnas que queremos eliminar.\n",
    "\n",
    "En palabras de ChatGPT:"
   ]
  },
  {
   "cell_type": "markdown",
   "metadata": {},
   "source": [
    "\n",
    "\n",
    "1. **Crear una Nueva Tabla**: Crea una nueva tabla que tenga la misma estructura que la tabla original, pero sin las columnas que deseas eliminar.\n",
    "\n",
    "2. **Copiar Datos a la Nueva Tabla**: Copia los datos de la tabla original a la nueva tabla, omitiendo las columnas que deseas eliminar.\n",
    "\n",
    "3. **Eliminar la Tabla Original**: Una vez que hayas verificado que los datos se han copiado correctamente, puedes eliminar la tabla original.\n",
    "\n",
    "4. **Renombrar la Nueva Tabla**: Renombra la nueva tabla con el nombre de la tabla original.\n",
    "\n",
    "Aquí tienes un ejemplo en Python que ilustra este proceso:\n",
    "\n",
    "```python\n",
    "import sqlite3\n",
    "\n",
    "# Conexión a la base de datos SQLite\n",
    "conn = sqlite3.connect('mi_base_de_datos.db')\n",
    "cursor = conn.cursor()\n",
    "\n",
    "# Paso 1: Crear una nueva tabla\n",
    "cursor.execute('''\n",
    "    CREATE TABLE nueva_tabla (\n",
    "        columna1 TIPO,\n",
    "        columna2 TIPO,\n",
    "        ...\n",
    "    )\n",
    "''')\n",
    "\n",
    "# Paso 2: Copiar datos a la nueva tabla\n",
    "cursor.execute('''\n",
    "    INSERT INTO nueva_tabla (columna1, columna2, ...)\n",
    "    SELECT columna1, columna2, ...\n",
    "    FROM tabla_original\n",
    "''')\n",
    "\n",
    "# Paso 3: Eliminar la tabla original\n",
    "cursor.execute('DROP TABLE tabla_original')\n",
    "\n",
    "# Paso 4: Renombrar la nueva tabla\n",
    "cursor.execute('ALTER TABLE nueva_tabla RENAME TO tabla_original')\n",
    "\n",
    "# Guardar los cambios y cerrar la conexión\n",
    "conn.commit()\n",
    "conn.close()\n",
    "```\n",
    "\n",
    "En este código, reemplaza `'mi_base_de_datos.db'`, `nueva_tabla`, `tabla_original`, `columna1`, `columna2`, etc., con los nombres reales de tu base de datos, tablas y columnas. Además, asegúrate de que el tipo de dato (`TIPO`) para cada columna coincida con el de la tabla original.\n",
    "\n",
    "Este método es efectivo pero requiere precaución, especialmente si trabajas con grandes cantidades de datos o si la integridad de los datos es crítica. Siempre es recomendable hacer una copia de seguridad de la base de datos antes de realizar operaciones de este tipo."
   ]
  }
 ],
 "metadata": {
  "language_info": {
   "name": "python"
  }
 },
 "nbformat": 4,
 "nbformat_minor": 2
}
