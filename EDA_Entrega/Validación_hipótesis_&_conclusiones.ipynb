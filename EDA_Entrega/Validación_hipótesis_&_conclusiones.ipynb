{
 "cells": [
  {
   "cell_type": "markdown",
   "metadata": {},
   "source": [
    "# **Validación de hipótesis y conclusiones finales**"
   ]
  },
  {
   "cell_type": "markdown",
   "metadata": {},
   "source": [
    "## **Introducción**\n",
    "\n",
    "En el siguiente documento se muestra las principales conclusiones extraídas de un dataset de videojuegos a partir de una de las grandes comunidades de jugadores llamada 'Backloggd'.\n",
    "Se parte de una situación hipotética en la que en un proceso de de aplicación de una oferta laboral, piden que genere un dataset propio, se limpien los datos y se elaboran todas las preguntas necesarias que \n",
    "ayuden a tener un conocimento completo del dataset.\n",
    "\n",
    "Una vez completado el análisis, los entrevistadores realizan dos preguntas que se deben responder a partir de las conclusiones obtenidas en todo el proceso realizado.\n",
    "Se da una total libertad para realizar el proceso, ya que se busca comprobar cómo se desenvuelve el candidato en las diferentes fases. La única pauta que se indica es que, más que datos centrados en la parte económica, (número de ingresos,\n",
    "copias vendidas, etc) el análisis se debe centrar en aspectos relacionados con tendencias actuales de juego.\n",
    "\n",
    "En el siguiente documento está compuesto de dos grandes secciones:\n",
    "\n",
    "- **Preguntas y respuestas para conocer el sector:** con el objetivo de obtener un conocimento básico e el sector de los videojuegos, se ha llevado a cabo un proceso de recopilación de datos, limpieza y finalmente un análisis exploratorio de datos (EDA)\n",
    "Desde el comienzo del proceso, se han planteado una serie de preguntas que tienen como objetivo final asentar conocimento sobre el sector de una forma metódica, a través de todas las técnicas aprendido a lo largo del bootcamp.\n",
    "Para poder responder a las preguntas aquí mostradas, se ha tenido que realizar un análisis tanto univariante como bivariante. En adición, se han utilizado técnicas de filtrado, especilamente a través de Pandas y otras librerías.\n",
    "\n",
    "- **Responder a las preguntas finales por parte del entrevistador:** a continuación se plantean las preguntas finales por parte del stakeholder, las cuales deben estar justificadas y basadas en todas las conclusiones obtenidas a lo largo del análisis.\n",
    "\n",
    "**F.Y.I:** En el siguiente documento sirve como un resumen justificado de todo el análisis realizado, es decir que todas las 'pruebas' aparecen de forma detallada en los documentos 'Análisis_univariante_y_filtrados' y 'Análisis_bivariante'.\n",
    "\n"
   ]
  },
  {
   "cell_type": "markdown",
   "metadata": {},
   "source": [
    "## **Preguntas y respuestas para conocer el sector**"
   ]
  },
  {
   "cell_type": "markdown",
   "metadata": {},
   "source": [
    " #### **¿Cuáles son los 5 videojuegos más populares en términos de reproducciones?  Muestra también los 5 más jugados por cada década. ¿Qué conclusiones puedes sacar?**\n"
   ]
  },
  {
   "cell_type": "markdown",
   "metadata": {},
   "source": [
    "##### Los 5 videojuegos más populares en términos de reproducciones son:\n",
    "| Juego                                  | Fecha de Lanzamiento | Plays | Team                                             | Avg. Rating | Genres                                     |\n",
    "|----------------------------------------|----------------------|-------|--------------------------------------------------|-------------|--------------------------------------------|\n",
    "| **Minecraft**                          | 2011-11-18           | 53000 | [Mojang Studios]                                 | 4.3         | [Adventure, Simulator]                     |\n",
    "| **Grand Theft Auto V**                 | 2013-09-17           | 49000 | [Rockstar North, Rockstar Games]                | 3.9         | [Adventure, Racing, Shooter]               |\n",
    "| **The Legend of Zelda: Breath of the Wild** | 2017-03-03           | 48000 | [Nintendo EPD Production Group No. 3, Nintendo] | 4.4         | [Adventure, Puzzle, RPG]                   |\n",
    "| **Portal 2**                           | 2011-04-18           | 46000 | [Electronic Arts, Valve]                        | 4.4         | [Adventure, Platform, Puzzle, Shooter]     |\n",
    "| **Portal**                             | 2007-10-10           | 44000 | [Electronic Arts, Valve]                        | 4.1         | [Platform, Puzzle, Shooter]                |\n",
    "\n",
    "\n",
    "\n",
    "**CONCLUSIONES**\n",
    "\n",
    "- Se puede observar que los 2 primeros juegos con más reproducciones tienen en común que ofrecen un mundo abierto lleno de posibilidades, donde cada jugador puede decidir sobre sus propias aventuras.\n",
    "Resulta clave entender que ambos videjuegos ofrecen versiones online que son las que permiten jugar con amigos y más gente, proporcionando una llave para crear comunidades grandes y consolidadas.\n",
    "\n",
    "- Aunque los avances en términos de mejora de gráficos puede ser un factor importante, la siguiente lista nos demuestra que no tiene que ser el factor número uno de éxito, ya que la mayoría de los juegos \n",
    "destacan por sus mecánicas innovadoras y por el cuidado de sus físicas. Todos los juegos mostrados comparten esta característica en mayor o menor medida.\n",
    "\n",
    "- Resulta interesante observar que, de todos los juegos mostrados, ninguno fue creado en la década actual. Parece que la década de los 10, fue una época de oro para los videojuegos.\n",
    "\n",
    "- Dos de los juegos más jugados pertenecen a la misma saga, lo que indica que en ocasiones puede resultar beneficiosos para una compañía realizar sagas si la primera parte tuvo un grán éxito(mientras se mantenga la esencia del primero)\n",
    "\n",
    "---\n",
    "\n",
    "##### Los 5 videojuegos más populares en términos de reproducciones en cada década son:\n",
    "\n",
    "Los juegos más populares de los años 1970 fueron:\n",
    "| Juego               | Fecha de Lanzamiento | Plays | Team                               | Avg. Rating | Genres                          |\n",
    "|---------------------|----------------------|-------|------------------------------------|-------------|---------------------------------|\n",
    "| **Pong**            | 1972-11-29           | 3600  | [Fairchild Semiconductor, Atari, Inc.] | 3.0         | [Arcade, Simulator, Sport]      |\n",
    "| **Space Invaders**  | 1978-06-01           | 2600  | [Polyvox, Taito Corporation]       | 3.1         | [Arcade, Shooter]               |\n",
    "| **Asteroids**       | 1979-11-17           | 1100  | [Atari, Inc., Accolade]            | 3.0         | [Arcade, Shooter]               |\n",
    "| **Galaxian**        | 1979-09-15           | 791   | [Namco, Polyvox]                   | 2.8         | [Arcade, Shooter]               |\n",
    "| **The Oregon Trail**| 1971-12-03           | 573   | [MECC]                             | 3.2         | [Adventure, Simulator, Strategy]|\n",
    "\n",
    "\n",
    "Los juegos más populares de los años 1980 fueron:\n",
    "| Juego                       | Fecha de Lanzamiento | Plays | Team                           | Avg. Rating | Genres              |\n",
    "|-----------------------------|----------------------|-------|--------------------------------|-------------|---------------------|\n",
    "| **Super Mario Bros.**       | 1985-09-13           | 26000 | [Playtronic, Nintendo R&D4]    | 3.5         | [Adventure, Platform]|\n",
    "| **Super Mario Bros. 3**     | 1988-10-23           | 21000 | [Playtronic, Nintendo R&D4]    | 4.1         | [Platform]          |\n",
    "| **The Legend of Zelda**     | 1986-02-21           | 14000 | [Playtronic, Nintendo EAD]     | 3.2         | [Adventure]         |\n",
    "| **Tetris**                  | 1989-11-01           | 13000 | [Playtronic, Nintendo]         | 4.1         | [Arcade, Puzzle]    |\n",
    "| **Super Mario Bros. 2**     | 1988-10-09           | 12000 | [Playtronic, Nintendo EAD]     | 3.1         | [Adventure, Platform]|\n",
    "\n",
    "\n",
    "Los juegos más populares de los años 1990 fueron:\n",
    "| Juego                                   | Fecha de Lanzamiento | Plays | Team                           | Avg. Rating | Genres                        |\n",
    "|-----------------------------------------|----------------------|-------|--------------------------------|-------------|-------------------------------|\n",
    "| **Super Mario 64**                      | 1996-06-23           | 31000 | [Playtronic, Nintendo EAD]     | 4.1         | [Adventure, Platform]        |\n",
    "| **The Legend of Zelda: Ocarina of Time**| 1998-11-21           | 26000 | [iQue, Nintendo EAD]           | 4.3         | [Adventure, RPG]             |\n",
    "| **Super Mario World**                   | 1990-11-21           | 26000 | [Nintendo EAD, Nintendo]       | 4.2         | [Adventure, Platform]        |\n",
    "| **Final Fantasy VII**                   | 1997-01-31           | 20000 | [Square Enix, Square]          | 4.2         | [Adventure, RPG, Turn Based Strategy] |\n",
    "| **Half-Life**                           | 1998-11-19           | 20000 | [Valve, Sierra Entertainment]  | 4.0         | [Adventure, Puzzle, Shooter] |\n",
    "\n",
    "\n",
    "Los juegos más populares de los años 2000 fueron:\n",
    "| Juego                           | Fecha de Lanzamiento | Plays | Team                           | Avg. Rating | Genres                        |\n",
    "|---------------------------------|----------------------|-------|--------------------------------|-------------|-------------------------------|\n",
    "| **Portal**                      | 2007-10-10           | 44000 | [Electronic Arts, Valve]       | 4.1         | [Platform, Puzzle, Shooter]   |\n",
    "| **Super Mario Galaxy**          | 2007-11-01           | 31000 | [Nintendo, Nintendo EAD]       | 4.3         | [Adventure, Platform]         |\n",
    "| **Left 4 Dead 2**               | 2009-11-17           | 30000 | [Turtle Rock Studios, Valve]   | 3.9         | [Shooter]                     |\n",
    "| **Grand Theft Auto: San Andreas**| 2004-10-26           | 29000 | [TransGaming Inc., Rockstar Games] | 4.1    | [Adventure, Racing, Shooter] |\n",
    "| **Super Smash Bros. Brawl**     | 2008-01-31           | 28000 | [Sora, Nintendo]               | 3.8         | [Fighting, Platform]          |\n",
    "\n",
    "\n",
    "Los juegos más populares de los años 2010 fueron:\n",
    "| Juego                                   | Fecha de Lanzamiento | Plays | Team                           | Avg. Rating | Genres                        |\n",
    "|-----------------------------------------|----------------------|-------|--------------------------------|-------------|-------------------------------|\n",
    "| **Minecraft**                           | 2011-11-18           | 53000 | [Mojang Studios]               | 4.3         | [Adventure, Simulator]        |\n",
    "| **Grand Theft Auto V**                  | 2013-09-17           | 49000 | [Rockstar North, Rockstar Games]| 3.9       | [Adventure, Racing, Shooter] |\n",
    "| **The Legend of Zelda: Breath of the Wild**| 2017-03-03         | 48000 | [Nintendo EPD Production Group No. 3, Nintendo] | 4.4  | [Adventure, Puzzle, RPG]     |\n",
    "| **Portal 2**                            | 2011-04-18           | 46000 | [Electronic Arts, Valve]       | 4.4         | [Adventure, Platform, Puzzle, Shooter] |\n",
    "| **Undertale**                           | 2015-09-15           | 43000 | [tobyfox, 8-4]                 | 4.3         | [Adventure, Indie, RPG, Turn Based Strategy] |\n",
    "\n",
    "\n",
    "Los juegos más populares de los años 2020 fueron:\n",
    "| Juego                           | Fecha de Lanzamiento | Plays | Team                                 | Avg. Rating | Genres                        |\n",
    "|---------------------------------|----------------------|-------|--------------------------------------|-------------|-------------------------------|\n",
    "| **Elden Ring**                  | 2022-02-25           | 33000 | [FromSoftware, Bandai Namco Entertainment] | 4.5       | [Adventure, RPG]              |\n",
    "| **Animal Crossing: New Horizons**| 2020-03-19          | 30000 | [Nintendo EPD, Nintendo]             | 3.6         | [Simulator]                   |\n",
    "| **Fall Guys**                   | 2020-08-04           | 26000 | [Epic Games, Mediatonic]             | 3.0         | [Indie, Platform, Racing, Sport] |\n",
    "| **Cyberpunk 2077**              | 2020-12-09           | 24000 | [CD Projekt, CD Projekt RED]         | 3.6         | [Adventure, RPG, Shooter]     |\n",
    "| **Genshin Impact**              | 2020-09-28           | 22000 | [miHoYo, Cognosphere]                | 2.6         | [Adventure, RPG]              |\n",
    "\n",
    "\n",
    "\n",
    "**CONCLUSIONES**\n",
    "\n",
    "- Existe una dominancia de ciertas sagas a lo largo de los años. Especialmente destacan `Zelda` y `Super Mario`. Esto refuerza la idea de que ciertas compañías han apostado por una estrategia continuista a la hora de crear videjuegos. Es decir,\n",
    "han decidido mantener la esencia de sus primeros éxitos y eso les ha permitido continuar generando juegos muy populares y manteniendo a comunidades muy sólidas.\n",
    "\n",
    "- Se puede identificar, cómo en las primeras décadas la mayor parte de los éxitos se centraban en muy pocos géneros, mientras que según van pasando los años, van apareciendo nuevos géneros en los que se enmarcan nuevos éxitos. Aún así, \n",
    "parece que el género con más exitos a lo largo de las décadas es el de `Adventure` con una diferencia notable.\n",
    "\n",
    "- Teniendo en cuenta las características de este dataset, resulta interesante observar el hecho de que aunque los juegos más jugados sen encuentran entre los años 2010 y 2020, existe un gran número de títulos creados hace más de 30 años que hoy en día compiten en\n",
    "términos de popularidad con títulos mucho más actuales de gran éxito. \n",
    "\n",
    "---\n",
    "\n",
    "\n"
   ]
  },
  {
   "cell_type": "markdown",
   "metadata": {},
   "source": [
    "#### **Explica de manera concisa cuáles consideras las variables categóricas más importantes**"
   ]
  },
  {
   "cell_type": "markdown",
   "metadata": {},
   "source": [
    "Los variables categóricas más importantes son:\n",
    "- **Title:** funciona como el identificador principal de cada juego.\n",
    "- **Genre:** clasifica a cada videjuego en uno o más géneros.\n",
    "- **Team** indica la compañía que llevó a cabo el desarrollo del videjuego.\n",
    "- **Platform:** muestra las consolas o plataformas en las que está disponible el juego.\n",
    "\n",
    "Una varibale que considero muy interesante es la de `Reviews`, en la que están añadidas las reseñas de los usuarios de la plataforma Backloggd por cada uno de los videjuegos. Podría ser interesante analizar y clasificar los comentarios,\n",
    "para por ejemplo entender que descripciones o rasgos comunes tienen los videojuegos con mucha popularidad o en contraste que comentarios se repiten en videojuegos con malas reseñas, para tratar de entender a sus usuarios y no volver a cometer los mismos errores.\n",
    "\n",
    "Otra que también podría ser interesante es `Summary` que describe el videjuego en cuestión. Sería interesante entender si podría exisitir una relación entre argumento y éxito.\n",
    "\n",
    "Por el momento no tengo el conocimiento suficiente para abordar modelos tan complejos , más aelante en el bootcamp aprenderé como hacer todo esto para poder aplicarlo :)\n"
   ]
  },
  {
   "cell_type": "markdown",
   "metadata": {},
   "source": [
    "#### **¿Cuáles son los 5 géneros con más videjuegos?. ¿Cuál es la cardinalidad de esta variable?. ¿Se puede afirmar con rotundidad que los géneros con juegos son los más exitosos?**\n"
   ]
  },
  {
   "cell_type": "markdown",
   "metadata": {},
   "source": [
    "Los géneros con más videjuegos son:\n",
    "- **Adventure:** con un 18% de share\n",
    "- **Indie:** con un 15% de share\n",
    "- **RPG** con un 8% de share\n",
    "- **Simulator** con un 7% de share\n",
    "- **Strategy** con un 7% de share\n",
    "\n",
    "La cardinalidad de solo el 0.04%, era algo bastante lógico, ya que una vez hice la explotación de las listas sólo se identificaron 23 géneros únicos.\n",
    "\n",
    "No se puede afirmar que los géneros que ofrecen mayor número de juegos siempre sean los más exitosos.\n",
    "En ciertos casos, sí se puede cumplir. El género `Adventure` es un ejemplo, ya que se trata del género que ofrece mayor cantidad de juegos, pero al mismo tiempo, observando las tablas pasadas, se muestran una gran cantidad de juegos populares a lo largo de las décadas.\n",
    "\n",
    "En contraste, el género `Indie`, aunque ofrece una gran cantidad de juegos, sólo un porcentaje muy pequeño de estos consigue llegar a ser popular. Al trarse de juegos que necesitan menos recursos para llevarse a cabo, también pueden contar con un número mucho menor de usuarios para\n",
    "obtener beneficios. Otra razón por la que existen muchos juegos en este género es porque la mayor parte de compañías pequeñas se centrar en desarrollar videojuegos con estas características.\n"
   ]
  },
  {
   "cell_type": "markdown",
   "metadata": {},
   "source": [
    "#### **¿Cuáles son las 5 compañías que ofrecen más videjuegos?. ¿Cuál es la cardinalidad de esta variable?. Añade un comentario que trate de explicar la composición de forma muy resumida**\n",
    "\n",
    "Los equipos que han creado más videjuegos son:\n",
    "- **Nintendo:** con un 10% de share y un total de 769 juegos\n",
    "- **Sega:** con un 6% de share y un total de 449 juegos\n",
    "- **Konami** con un 6% aprox. de share y un total de 443 juegos\n",
    "- **Capcom** con un 5% aprox. de share y 420 juegos\n",
    "- **Electronic Arts** con un 5% aprox. de share y 404 juegos\n",
    "\n",
    " Un 26.87% de cardinalidad indica un mercado con una considerable cantidad de desarrolladores y estudios, con un total de 11457. Refuerza la idea de un sector compuesto por unos pocos equipos que hacen muchos juegos y en contraste muchos equipos que hacen pocos juegos\n",
    " (mucho de ellos 1 ó 2)."
   ]
  },
  {
   "cell_type": "markdown",
   "metadata": {},
   "source": [
    "#### **¿Cuáles son las 5 plataformas en las que hay mayor oferta de videojuegos?. ¿Cuál es la cardinalidad de esta variable?. Añade un comentario que trate de explicar la composición de forma muy resumida**\n",
    "\n",
    "Los equipos que han creado más videjuegos son:\n",
    "- **Windows PC:** con un 30% de share y un total de 17643 juegos\n",
    "- **Mac:** con un 8% de share y un total de 4825 juegos\n",
    "- **Nintendo Switch** con un 7% de share y un total de 3989 juegos\n",
    "- **PlayStation 4** con un 7% aprox. de share y 3962 juegos\n",
    "- **Xbox One** con un 6% aprox. de share y 3308 juegos\n",
    "\n",
    " Una cardinalidad del 0.26%. Aunque esperaba una cardinalidad muy baja, igualmente me pareció bastante alta, ya que se traducía a que existen unas 176 plataformas diferentes. La razón es porque además de incluir la mayoría de consolas que todos conocemos, también existen juegos muy específicos para ciertos softwares o hardwares + sofwares que son muy desconocidos para la mayoría de personas. De todas maneras, lo que pude confirmar es que, a pesar de la existencia de múltiples plataformas, unas pocas dominan el mercado.\n",
    "\n",
    " La gran diferencia de oferta entre `Windows PC` y el resto de consolas es abismal. Tras lo visto en los diferentes análisis realizados, la razón principal se debe a que un gran número de juegos, normalmente de popularidad baja, desarrollan videojuegos para está plataforma.\n",
    " Probablemente sea porque no tengan recursos suficientes para optimizar a otras plataformas y/o que la mayoría de jugadores del mundo utlizan PC (conjeturas que no se pueden validar con esta muestra de datos)\n",
    "\n",
    " ---\n",
    " "
   ]
  },
  {
   "cell_type": "markdown",
   "metadata": {},
   "source": [
    "#### **En rasgos muy generales, realiza una descripción sobre las variables numéricas más importantes del dataset**"
   ]
  },
  {
   "cell_type": "code",
   "execution_count": null,
   "metadata": {},
   "outputs": [],
   "source": []
  },
  {
   "cell_type": "markdown",
   "metadata": {},
   "source": [
    "#### **Explica de manera muy concisa los patrones generales en las variables numéricas más importantes**"
   ]
  },
  {
   "cell_type": "markdown",
   "metadata": {},
   "source": [
    "En base a los análisis que he realizado de las variables numéricas a través de las diferentes herramientas numéricas y visuales, he llegado a las siguientes conclusiones:\n",
    "\n",
    "- El dataset está formado por unos 30.000 juegos diferentes. Existe un gran porcentaje de ellos, que tienen unas estadísticas muy probres, incluso rondando en muchos casos valores cercanos al 0, mientras que si aplicamos una \n",
    "comparación relativa, unos pocos tienen unos valores extremadamente altos en sus diferentes variables (nº de veces jugado, nº de veces deseado, etc) Esto representa una clara polarización del mercado, donde unos pocos títulos \n",
    "consiguen una gran popularidad mientras que otros muchos no tienen apenas repercusión.\n",
    "\n",
    "- Al aplicar tanto el STD como el CV en todas las variables numéricas importantes (exceptuando `Avg. Rating`) se han obtenido unos resultados extremadamente altos, indicando una dispersión y una variabilidad basnte elevada respecto a la media.\n",
    "Esto refleja que en el caso específico de este dataset, la media no es un buen indicador representantivo y utilizarlo podría generar una impresión engañosa de su estrctura.\n",
    "\n",
    "- En los boxplots también se siguen unos patrones comunes:\n",
    "    - Se componenen de una caja central muy estrecha que suele estar situada en el extremo izquierdo, es decir entre los valores más bajos. Esto indica que el 50% o más de los datos se encuentran muy agrupados. Pero al mismo tiempo, todos los boxplots\n",
    "    muestran valores que se salen de los bigotes, por lo que existen muchos otros que tienen características completamente diferentes. La mayoría de estos outliers se encuentran con una distribución sesgada hacia la derecha, es decir, \n",
    "    tiene una cola más larga en el lado derecho del gráfico.\n",
    "    - Por ello, en este caso no se ha realizado ningún tratimento con los 'outliers'. Los outliers en mi dataset no son solo desviaciones estadísticas; representan fenómenos reales y significativos en la industria del juego, es decir no son causa de ningún error a la hora de recopliar la información o de realizar la limpieza, sino que son el reflejo propio de la realidad de este 'mundillo'.\n",
    "\n",
    "---\n"
   ]
  },
  {
   "cell_type": "markdown",
   "metadata": {},
   "source": [
    "#### **¿Qué relación hay entre las compañías más existosas y los géneros?. ¿Tienden estas compañías a dominar géneros específicos?**"
   ]
  },
  {
   "cell_type": "markdown",
   "metadata": {},
   "source": [
    "A pesar de la presencia dominante de algunas compañías en ciertos géneros, ninguna compañía parece monopolizar completamente un género específico. Esto sugiere una estrategia de diversificación en la producción de videojuegos por parte de las compañías líderes. \n",
    "\n",
    "El mejor ejemplo es Nintendo, que tiene una presencia relativamente alta en la mayoría de géneros principales. En este sentido, la diversificación es una herramienta útil para mitigar posibles riesgos en el caso de que un género deje de ser popular en un determinado momento.\n",
    "\n",
    "Por otro lado, resalta el hecho de que las compañías más potentes no ofrecen juegos en el género 'Indie', y es que a pesar que es un género que en términos absolutos ofrece una gan cantidad de juegos, este está compuesto por muchas compañías notablemente pequeñas."
   ]
  },
  {
   "cell_type": "markdown",
   "metadata": {},
   "source": [
    "#### **¿Se puede afirmar que haya géneros que sólo estén disponibles en ciertas plataformas?**"
   ]
  },
  {
   "cell_type": "markdown",
   "metadata": {},
   "source": [
    "En términos generales, el análisis bivariante muestra que existe una disponibilidad universal de géneros en las plataformas más importantes, lo que significa que los jugadores tienen libertad para elegir plataformas sin comprometer sus preferencias de género. Por ejemplo, los aficionados a los deportes pueden disfrutar de juegos de deportes en casi cualquier plataforma.\n",
    "\n",
    "El género 'Indie', vuelve a ser la nota discordante; destaca por su amplia disponibilidad en plataformas relacionadas con ordenadores, lo que podría estar relacionado con barreras de entrada más bajas para los desarrolladores en esta plataforma. También podría tener relación con que\n",
    "los juegos desarrollados en este género son más humildes en términos de recursos y que no tienen la capacidad de optimizar para el resto de plataformas clave."
   ]
  },
  {
   "cell_type": "markdown",
   "metadata": {},
   "source": [
    "#### **¿Existe una dominancia de las compañías más importantes en consolas específicas?**"
   ]
  },
  {
   "cell_type": "markdown",
   "metadata": {},
   "source": [
    "Sí, a diferencia de casos anteriores, la comparativa entre ambas variables demuestra que,  aunque se mantiene unos porcentajes relativmanete equitativos en plataformas como 'Windows PC se puede observar cómo hay compañías que tienen una relevancia notable en ciertas plataformas.\n",
    "\n",
    "Esta tendencia es especialamente notable en casos como Nintendo donde tiene una evidente dominancia en su propia consola (Nintendo Switch) y Sony Computer Entretainement con las diferentes generaciones de sus consolas (PlayStation).\n",
    "\n",
    "También cabe destacar que en esta comparativa se vuelve a reforzar la estrategia de diversificación de las compañías más grandes, ofreciendo juegos no sólo en sus consolas si no entodas aquellas se puedan cosiderar populares (evidentemente en mayor o menor medida según el caso)\n",
    "\n",
    "---\n"
   ]
  },
  {
   "cell_type": "markdown",
   "metadata": {},
   "source": [
    "#### **Existe alguna tendencia clara respecto a la las diferentes plataformas, equipos y géneros y su relación con la nota media?**"
   ]
  },
  {
   "cell_type": "markdown",
   "metadata": {},
   "source": [
    "El análisis bivariante detallado demuestra que la calidad percibida de los videojuegos, tal como se refleja en la nota media, no está dominada por un género, equipo o plataforma específicos. \n",
    "\n",
    "Aunque hay tendencias que asocian ciertos géneros y desarrolladores con calificaciones más altas, y ciertas plataformas con variaciones en la recepción a lo largo del tiempo, estos efectos son relativamente moderados.\n",
    "Por ejemplo, géneros como RPG y Adventure tienden a recibir calificaciones ligeramente superiores géneros como MOBA y Racing, a pesar de su popularidad, no alcanzan las mismas altas calificaciones promedio.\n",
    "(Revisar en el fichero de Análisis Bivariante > Variables combinadas para más información)\n",
    "\n",
    "El análisis univariante de 'Avg. Rating' ya indicaba que las calificaciones no fluctuaban mucho alrededor de la mediana. Dicho en otras palabras, existe una uniformidad evidente en las calificaciones medias de los videojuegos."
   ]
  },
  {
   "cell_type": "markdown",
   "metadata": {},
   "source": [
    "#### **¿Existe alguna tendencia clara respecto a la las diferentes plataformas, equipos y géneros y su relación con el número total de reproducciones?**"
   ]
  },
  {
   "cell_type": "markdown",
   "metadata": {},
   "source": [
    "El análisis de la relación entre géneros, equipos y plataformas y el número total de reproducciones ('Plays') revela ciertas tendencias claras y diferenciadas. \n",
    "\n",
    "Aunque la mayoría de los géneros tienden a seguir un patrón similar en cuanto a la distribución de las reproducciones, con muchos juegos recibiendo poca atención y unos pocos alcanzando una popularidad significativa, \n",
    "géneros como 'Adventure', 'Shooter', 'Brawler' y 'RPG' se destacan por tener un número mayor de juegos altamente reproducidos. \n",
    "Específicamente, el género 'Indie', a pesar de su alta representación en el mercado, tiende a tener una mayor proporción de juegos con reproducciones bajas, reflejando las dificultades de las pequeñas empresas para competir por la atención del público.\n",
    "\n",
    "En cuanto a los equipos de desarrollo, 'Nintendo' resalta por tener una proporción menor de juegos con bajas reproducciones y una mayor cantidad de juegos exitosos, mientras que otras compañías grandes tienden a tener una mezcla más variada de juegos con diferentes niveles de popularidad. Esto indica que, aunque el tamaño y los recursos de una empresa pueden influir en la popularidad de sus juegos, hay excepciones notables que demuestran que no siempre se garantiza el éxito.\n",
    "\n",
    "Respecto a las plataformas, se observa que las consolas principales como 'Xbox' y 'PlayStation' tienen una buena representación de juegos muy populares, mientras que 'Windows PC' y las plataformas móviles y de computadoras personales tienden a tener una mayor proporción de juegos menos populares. \n",
    "\n",
    "\n"
   ]
  },
  {
   "cell_type": "markdown",
   "metadata": {},
   "source": [
    "#### **¿Se puede dar el caso de videjuegos que tengan el mismo nombre? En caso de ser así ¿Tienden a ser populares en términos de reproducciones?**"
   ]
  },
  {
   "cell_type": "markdown",
   "metadata": {},
   "source": [
    "Sí, existen mútiples casos en los que hay varios juegos con el mismo nombre exacto.\n",
    "\n",
    "En líneas generales el primer dato a destacar es que en el caso de muchas versiones que se hacen de un juego, parecen quedarse en segmentos que representan una popularidad baja. 'Tetris' es un ejemplo: se trata del videjuego con más versiones hechas,\n",
    "pero la mayoría de ellas tienden a ser impopulares. En cambio, también tiene varios segmentos de menor tamaño que determinan que han tenido mucho éxito.\n",
    "\n",
    "En línea con lo comentado, parece que la mayoría de títulos que tienes varios juegos comparten segmentos con versiones existosas. Es decir, probablemente la mayoría de las ocasiones en las que se hacen nuevos juegos con el mismo nombre es porque el primero o primeros\n",
    "en llamarse así tuvieron éxito, y se trata de hacer otra versión aprovechando su renombre, ya sea una versión actualizada a los tiempos o el mismo juego pero optimizado para una plataforma en particular.\n",
    "\n",
    "Como siempre existen excepciones a la regla, un ejemplo es 'Resident Evil 4' que cada una de sus 4 versiones va desde un numero medio de visualizaciones a un número alto, indicando que todas sus versiones han tenido un exito relativo medio o alto."
   ]
  },
  {
   "cell_type": "markdown",
   "metadata": {},
   "source": [
    "#### **¿Son las sagas de videjuegos normalmente existosas?. Comenta algún ejemplo concreto**"
   ]
  },
  {
   "cell_type": "markdown",
   "metadata": {},
   "source": [
    "Tras analizar los datos dentro del dataset, se puede observar que existen muchas sagas de gran éxito. Resulta lógico entender que si existe una segunda parte de un juego es debido a que la primera obtuvo un éxito relativo.\n",
    "\n",
    "Tras observar la información de diferentes sagas se puede confirmar que, en la mayoría de los casos estas tienen un nuevo de visualizaciones bastante alto comparado con la mediana. Algunos de estos ejemplos son:\n",
    "\n",
    "- **Portal 1 y 2:** como ya se pudo observar al principio de este documento, ambos juegos aparecían en el top 5 de videjuegos de las décadas del 2000 y 2010 (Portal incluso siendo el nº1)\n",
    "- **Grand Theft Auto** una de las sagas más exitosas en cuanto a nuevo de veces jugado, en la que se encuentran un gran número de títulos que se posicionan en las primeras tendencias, como el GTA5, que se posiciona como el segundo\n",
    "más jugado en termino absolutos en esta comunidad de jugadores\n",
    "- **Super Mario Bros** se trata de otro claro ejemplo de saga exitosa, con más de 5 juegos de diferentes décadas que a día de hoy se encuentran entre los más jugados. \n",
    "\n",
    "Aunque existen muchos otros ejemplos, hay que tener en cuenta que no siempre todos los juegos de una saga son populares. Un ejemplo es:\n",
    "\n",
    "- **SpiderMan** aunque analizando los datos, si se puede observar que ciertos títulos tienen un nivel de reproducciones alto, otros muchos títulos se posicionan con una popularidad baja o media. \n"
   ]
  },
  {
   "cell_type": "markdown",
   "metadata": {},
   "source": [
    "#### **Selecciona los pares de variables numericas de las que consideres que pueda exisitir algún tipo de correlación y explica brevemente sus características**"
   ]
  },
  {
   "cell_type": "markdown",
   "metadata": {},
   "source": [
    "**Relación entre 'Plays' y 'Avg. Rating':**\n",
    "A pesar de una correlación numérica débil (Pearson ~0.22), la tendencia visual sugiere que los juegos con un mayor número de reproducciones ('Plays') tienden a tener calificaciones más altas ('Avg. Rating'), especialmente en los rangos más altos de reproducciones. Esto podría reflejar que los juegos populares y ampliamente jugados suelen ser también bien valorados por su calidad, aunque la relación no es lineal y perfecta.\n",
    "\n",
    "A partir del diagrama de dispersión, de alguna manera, esto desmitifica la idea generalizada de que lar mayoría de las personas tienden a realizar valoraciones o reseñas cuando el producto es 'de baja calidad'. En la gráfica se puede observar cómo los juegos que \n",
    "se encuentran en los rangos bajos de reproducciones tienen valoraciones bajas y según va subiendo el número de visualizaciones las notas son mayores, demostrando que en ambos casos los juegos suelen valorarse.\n",
    "\n",
    "**Relación entre 'Times Listed' y 'Avg. Rating':**\n",
    "Con una correlación similarmente débil (Pearson ~0.28), la tendencia visual indica que los juegos que aparecen con más frecuencia en listados ('Times Listed') tienden a tener calificaciones más altas. Esto podría sugerir que los juegos más listados con frecuencia son generalmente de mayor calidad, o al menos son percibidos así por los jugadores.\n",
    "\n",
    "Esto refuerza la idea de que las valoraciones positivas son un arma muy poderosa para atraer a nuevos jugadores. Las compañías deben de tener muy en cuenta esto en sus estrategias de marketing, haciendo uso cuando corresponda del poder sus propias comunidades a la hora de hacer\n",
    "'efecto llamada'.\n",
    "\n",
    "**Relación entre 'Wishlist' y 'Avg. Rating':**\n",
    "Con una correlación débil (Pearson ~0.27), la tendencia visual sugiere que los juegos más deseados ('Wishlist') tienden a tener calificaciones más altas. Esto indica que los juegos que generan expectativa y anticipación en las listas de deseos de los jugadores suelen ser aquellos tienden \n",
    "a tener calificaciones medias muy elevadas.\n",
    "\n",
    "Desde el punto de vista estratégico de una compañía, debería plantearse la pregunta de por qué un juego que tiene valoraciones medias tan altas (y por lo que hemos visto muchas reproducciones y jugadores) suele estar en la lista de deseos de muchos jugadores. O dicho con otras palabras,\n",
    "por qué esas personas no han comprado el juego ya si lo desean. Si se trata de razones económicas, podrán plantear estrategias de ventas adecuadas (rebajas, etc) que consigan convertir esos 'leads' en clientes.\n",
    "\n",
    "**Como conclusión:** en términos generales, estas relaciones sugieren que existe una tendencia, aunque no fuerte, de que los juegos más populares, visibles y anticipados tienden a ser mejor valorados. Sin embargo, la relación no es perfectamente lineal ni consistente en todos los casos.\n",
    "\n",
    "Lo que refuerza la idea de que en ocasiones, aunque las herramientas matemáticas no reflejen conclusiones claras, las herramientas gráficas pueden incluir insights interesantes a tener en cuenta. Por ello en la medida de lo posible es fundamental combinar ambas\n",
    "antes de sacar conclusiones finales.\n",
    "\n",
    "---\n"
   ]
  },
  {
   "cell_type": "markdown",
   "metadata": {},
   "source": [
    "## **Pregunta final por parte del entrevistador**"
   ]
  },
  {
   "cell_type": "markdown",
   "metadata": {},
   "source": [
    "\n",
    "\n",
    "**La empresa en la que estoy realizando la entrevista se trata una start-up de nueva generación, con poca experiencia en el sector y con recursos limitados.**\n",
    "\n",
    "A través de la información y conclusiones obtenidas,  me piden que plantee una estrategia de producto y negocio apoyándome todo lo que pueda en los datos.\n",
    "Si resulta conveniente,  me dan la opción de utlizar ejemplos concetos de videjuegos que ayuden a reforzar mi estrategia.\n"
   ]
  },
  {
   "cell_type": "markdown",
   "metadata": {},
   "source": [
    "### **Estrategia de producto para start-up de videojuegos**"
   ]
  },
  {
   "cell_type": "markdown",
   "metadata": {},
   "source": [
    "En base al estudio realizado sobre las tendencias actuales del sector de los videojuegos, la estrategia para la creación de nuevos títulos debería apoyarse en los siguientes puntos:\n",
    "\n",
    "#### **ETAPA DE CONCEPTUALIZACIÓN**\n",
    "\n",
    "- 1. **Entendiemiento del mercado** \n",
    "    Para una compañía que se quiera incorporar en el sector de los videjuegos, resulta esencial entender la estructura y la composición de dicho mercado. El análisis realizado determina que se trata de \n",
    "    un sector muy grande que se caracteriza por agrupar un gran número de empresas que compíten entre ellas. Dicho mercado, está compuesto por un número relativamente pequeño de empresas que dominan el sector al ofrecer un gran número de videjuegos\n",
    "    de los que un porcentaje muy alto componen la lista de los más populares. \n",
    "\n",
    "    En contraste, existe un gran número de compañías pequeñas, encuanto al número de videjuegos que han producido y el porcentaje bajo de estos que han conseguido llegar a ser populares.\n",
    "    Dicho en otras palabras, un sector compuesto por unos pocos equipos que hacen muchos juegos y en contraste muchos equipos que hacen pocos juegos. \n",
    "\n",
    "    Como conclusión, los datos nos arrojan que se trata de un mercado muy polarizado en el que podrían existir fuertes barreras de entrada.\n",
    "\n",
    "- 2. **Gestión adecuada de los recursos disponibles** \n",
    "    Debido a la manturaleza del mercado y de las características de la compañía, resulta clave tomar las decisiones correctas a la hora de gestionar los recursos. Según los datos analizados, este tipo de empresas tienen una media de entre 1 y 2 juegos \n",
    "    publicados en el mercado. Aunque en algunos casos la razón sea por que lleven poco tiempo, según de ha podido demostrar analizando las fechas de publicación de os videjuegos, la mayor parte de estas parece que tras el primer título, no vuelven a \n",
    "    realizar nuevos juegos, probablemente al no haber obtenido el número de reproducciones suficientes como para seguir adelante.\n",
    "\n",
    "    Por lo tanto, para tomar las mejores decisiones, es imprescindible basarse en las varibales más importantes que se encuentran dentro del mundo de los videjuegos que se describirán a continuación.\n",
    "\n",
    "- 3. **Elección correcta del género** \n",
    "\n",
    "Tras lo observado en el análisis existen 23 géneros distintos. Las principales desarrolladoras no tienden a dominar un género en específico. Esto sugiere una estrategia de diversificación en la producción de videojuegos por parte de las compañías líderes, lo que supone\n",
    "que en la mayoría de los casos se tendría que competir con los 'gigantes' a la hora de seleccionar un género. Aunque existe una excepción, el género 'Indie'. \n",
    "\n",
    "Este género se caracteriza por ofrecer juegos considerados como alternativos, que se suelen centrar en las con historias y en la experimentación con mécánicas más que en otros aspectos como los gráficos. Por lo tanto, se necesitan menos recursos para llevarlos a cabo. \n",
    "Resulta importante destacar que este género no ofrece una cantidad considerable de grandes éxitos aunque con excepciones. En contraste, según dos datos es el número dos en cuanto a número total de videjuegos, lo que indica que se agrupan las compañías pequeñas y que existe un nicho de jugadores a los que les gusta este tipo de videjuegos.\n",
    "\n",
    "En conclusión, 'Indie' es el género idóneo para el desarrollo del primer videjuego porque evita competir cara a cara con las compañías más grandes y permite la posibilidad de ofrecer un videjuego razonablemente interesante sin tener que hacer uso\n",
    "de una cantidad abrumadora de recursos.\n",
    "\n",
    "\n",
    "- 4. **Elección adecuada de las plataformas**\n",
    "\n",
    "Como se pudo comprobar tras analizar el dataset, existe una variabilidad de los videjuegos y su disponibilidad en las plataformas. Teniendo en cuenta lo ya comentado anteriormente, se debe hacer un uso consecuente respecto a los recursos disponibles. \n",
    "Versionar un juego para diferentes consolas podría suponer un coste elevado, por ello tiene sentido, al menos en las primeras fases, centrarse en la plataforma donde exista la posibilidad que más usuarios puedan llegar a jugar.\n",
    "En este sentido, se observa que existe una gran diferencia de oferta entre Windows PC, por lo tanto esta sería la mejor opción en una primera fase.\n",
    "\n",
    "- 5. **Propuesta de valor**\n",
    "\n",
    "Tras realizar filtrados de los juegos más exitosos de la categoría 'Indie' y revisar las reseñas de los propios jugadores de la comunidad, destacan los siguientes comentarios:\n",
    "-  Uso de físicas y mecánicas interesantes que de alguna manera ofrezcan algo innovador respecto a la forma de juego. Muchas compañías de forma equivocada, tratan de centrarse en el aspecto visual: gráficos en alta resolución, skins, etc. Este error\n",
    "podría resulta incluso más perjudicial teniendo en cuenta la base limitada de recursos. Un claro ejemplo es el videjuego 'Undertale', el título más popular del género en estos momentos.\n",
    "\n",
    "- Un gran porcentaje de videjuegos del género Indie que resultan exitosos son multijugador. Según los comentarios analizados, detaca la posibilidad de poder jugar con amigos y/o con gente de todo el mundo. Las comunidades en este tipo de títulos\n",
    "juegan un papel fundamental en la creación de comunidades, a tavés de torneos y otras posibilidades, como es el caso de 'Fall Guys' o 'Rocket League' dos de los juegos más exitosos del momento según el dataset analizado.\n",
    "\n",
    "\n",
    "\n",
    "#### **ETAPA DE PRODUCCIÓN**\n",
    "\n",
    "- 6. **Estrategias de early adopters**\n",
    "\n",
    "Dado que optimizar los recursos resulta clave, una táctica de producto importante es la de desarrollar versiones con las características más esenciales. Es decir, versiones alpha y beta cerradas que permitan testear el producto y recibir feedback\n",
    "antes de seguir destinando más recursos en el mismo. Según los análisis realizados entre variables numéricas, se ha detectado que existe una correlación entre el número de wishlists y la calificación, indicando que cuanto más es deseado un juego\n",
    "mejores calificaciones suele tener. Y al mismo tiempo, los juegos con más reproducciones son aquellos que suelen tener una valoración media más alta. \n",
    "\n",
    "En definitiva, realizar este tipo de versiones cerradas, permitirá analizar las reviews realiazadas en este tipo de comunidades para entender qué es lo que más ha gustado y aquello de lo que más se quejan los usuarios. Y por otro lado, si\n",
    "el juego obtiene un número significativo de 'deseados' podrá indicar que exitan posibilidades de que el juego llegue a conseguir un éxito relativo.\n",
    "\n",
    "\n",
    "- 7. **Actualizaciones frecuentes y sagas**\n",
    "\n",
    "Como ya se pudo demostrar en la preguntas y respuestas realizadas, muchas de las grandes compañías que consiguen producir videjuegos populares, tienden a realizar sagas, como 'Grand Theft Auto', 'Zelda' o 'Super Mario Bros'. Pero es importnate entender\n",
    "que las características de estas compañías son completamente diferentes en comparación con aquellas más pequeñas. \n",
    "\n",
    "Tras analizar las características de los títulos populares de compañías relativamente pequeñas, además de centrarse en videjuegos dentro del género Indie, destacan por no tener segundas partes. En cambio, muchas reseñas de los jugadores indican que\n",
    "se llevan a cabo actualizaciones constantes de la que muchos de los jugadores suelen estar contentos.\n",
    "\n",
    "Es decir, que en línea con el punto anterior, los juegos más exitosos suelen estar en constante evolución, teniendo muy en cuenta el feedback de las comunidades como en la que esta basada este dataset.\n",
    "\n",
    "\n",
    "#### **UN EJEMPLO DE ÉXITO**\n",
    "Un título que puede servir de ejemplo es 'Among Us'. Según los datos analizados, se trata de un juego creado en 2018, que a día de hoy está dentro de los juegos más jugados.\n",
    "A partir de los datos, la compañía 'Innersloth' no tenía ningún videjuego creado hasta el momento, o al menos que estuviera incluido en la comunidad de Backloggd. \n",
    "\n",
    "Among Us cumple con todas las características previmanete nombradas:\n",
    "\n",
    "- Se trata de un videjuego que tiene unos gráficos muy simples, pero con unas mecánicas innovadoras, dotan al videjuego de una personalidad única.\n",
    "\n",
    "- Se juega de manera online, permitiendo jugar directamente con amigos o con personas de todo el mundo.\n",
    "\n",
    "- Sus primeras versiones sólo estaban disponibles en ordenador, es decir que hasta que su éxito no fue muy elevado, no optimizaron su videojuego\n",
    "para el resto de plataformas.\n",
    "\n",
    "- En vez de ampliar la saga, se han centrado en mejorar el videjuego cada poco tiempo, anadiendo nuevas funcionalidades y corrigiendo errores detectados por los jugadores.\n",
    "\n",
    "#### **UN EJEMPLO DE FRACASO**\n",
    "\n",
    "Un ejemplo de videjuego que no ha seguido estas pautas significando su fracaso ha sido 'The Day Before'. Tras analizar los datos, este título fue desarrollado por la compañía 'Fntastic' en 2023.\n",
    "A diferencia del ejemplo anterior, esta compañía sí había desarrollado 2 videjuegos años antes, pero según la información se trataron de títulos tremendamente impopulares.\n",
    "\n",
    "- Por los datos obtenidos, esta compañía es bastante pequeña y con poca experiencia, en vez de centrarse en la categórica que le correspondería (la Indie) trató de desarrollar un videjuego \n",
    "muy complejo y con lo que serían unos gráficos de nueva generación.\n",
    "\n",
    "- En vez de centrarse en consolidar una primera función realista, dedicaron gran parte de sus recursos en marketing, vendiendo el juego como si fuera el título del siglo. Esto provocó que hubiera\n",
    "mucha gente interesada creyendo lo que prometían.\n",
    "\n",
    "- Publicaron su videjuego en plataformas de nueva generación como Play Station 5 y Xbox Series, además de para las versiones de ordenador.\n",
    "\n",
    "- No realizaron versiones alpha o beta, sino que publicaron la versión v1 directamente a producción.\n",
    "\n",
    "- Una vez ya se encontró disponible, según los comentarios analizados a través del dataset, fue un auténtico escándalo debido a que no se cumplían la mayor parte de las características que prometían además de incluir todo tipo de bugs.\n",
    "Una reseña que aparece múltiples veces lo denomina como 'The Scam Before'. Tal fue la polémica que las grandes plataformas descatalogaron el videjuego."
   ]
  },
  {
   "cell_type": "markdown",
   "metadata": {},
   "source": [
    "| **Estrategia para Creación de Videojuegos:**         | **Resumen**                                                                                                                                                                                                                   |\n",
    "|------------------------------------------------------|-------------------------------------------------------------------------------------------------------------------------------------------------------------------------------------------------------------------------------|\n",
    "| **Etapa de Conceptualización:**                      |                                                                                                                                                                                                                               |\n",
    "| Comprensión del Mercado:                             | Sector polarizado: pocos equipos con muchos juegos populares vs. muchos equipos con pocos juegos.                                                                                                                              |\n",
    "| Gestión de Recursos:                                 | Importancia de decisiones estratégicas debido a la naturaleza del mercado y recursos limitados. Este tipo de empresas tienen una media de entre 1 y 2 juegos --> gran probabilidades de fracaso                               |\n",
    "| Elección del Género:                                 | Diversificación en géneros por grandes compañías; 'Indie' como género ideal para pequeñas empresas.                                                                                                                            |\n",
    "| Selección de Plataformas:                            | Foco inicial en Windows PC para maximizar alcance con recursos limitados.                                                                                                                                                     |\n",
    "| Propuesta de Valor:                                  | Énfasis en físicas y mecánicas interesantes; enfoque en juegos multijugador y comunidades. Según las reseñas analizadas de los juegos más exitosos de este género                                                             |\n",
    "| **Etapa de Producción:**                             |                                                                                                                                                                                                                               |\n",
    "| Estrategia de Early Adopters:                        | Desarrollo de versiones alpha/beta para optimizar recursos y recoger feedback. Correlación entre el número de wishlists y la calificación, indicando que cuanto más es deseado un juego mejores calificaciones suele tener. Y al mismo tiempo, los juegos con más reproducciones son aquellos que suelen tener una valoración media más alta. Mejorar en base al feedback |\n",
    "| Actualizaciones y Evolución:                         | Preferencia por actualizaciones constantes en lugar de sagas para pequeñas compañías. Los juegos más exitosos del género 'Indie' no tienen sagas, sino actualizaciones regulares                                                |\n"
   ]
  },
  {
   "cell_type": "markdown",
   "metadata": {},
   "source": []
  }
 ],
 "metadata": {
  "kernelspec": {
   "display_name": ".venv",
   "language": "python",
   "name": "python3"
  },
  "language_info": {
   "codemirror_mode": {
    "name": "ipython",
    "version": 3
   },
   "file_extension": ".py",
   "mimetype": "text/x-python",
   "name": "python",
   "nbconvert_exporter": "python",
   "pygments_lexer": "ipython3",
   "version": "3.11.5"
  }
 },
 "nbformat": 4,
 "nbformat_minor": 2
}
